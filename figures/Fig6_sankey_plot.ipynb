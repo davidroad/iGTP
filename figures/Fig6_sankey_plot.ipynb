{
 "cells": [
  {
   "cell_type": "code",
   "execution_count": 9,
   "id": "cc06602a",
   "metadata": {},
   "outputs": [],
   "source": [
    "###load pbmc model\n",
    "import numpy as np\n",
    "import pandas as pd\n",
    "import scanpy as sc\n",
    "pd.set_option('display.max_rows', None)\n",
    "pd.set_option('display.max_columns', None)\n",
    "\n",
    "from iGTP_Linear import *\n",
    "from iGTP_model_modified_scvi_sample_final import *\n",
    "from preprocess import *\n",
    "from learning_utilies import *\n",
    "import os \n",
    "import scanpy as sc\n",
    "import pickle5 as pickle"
   ]
  },
  {
   "cell_type": "code",
   "execution_count": 11,
   "id": "5a580632",
   "metadata": {},
   "outputs": [
    {
     "name": "stdout",
     "output_type": "stream",
     "text": [
      "dict_keys(['data_x_s', 'mask_dict', 'args', 'seq_gene_df', 'seq_gene_df_su', 'TP_df', 'ppi_df_1', 'data'])\n"
     ]
    }
   ],
   "source": [
    "pbmc_path='./save_model/pbmc_IFN_1/processed_data/GO_merged_PCzinb_uniform_7000.pkl'\n",
    "\n",
    "with open(pbmc_path, 'rb') as file:\n",
    "    pbmc_data = pickle.load(file)\n",
    "    \n",
    "print(pbmc_data.keys())"
   ]
  },
  {
   "cell_type": "code",
   "execution_count": 15,
   "id": "e4374f91",
   "metadata": {},
   "outputs": [
    {
     "name": "stderr",
     "output_type": "stream",
     "text": [
      "/usr/local/lib/python3.8/dist-packages/torch/nn/modules/lazy.py:180: UserWarning: Lazy modules are a new feature under heavy development so changes to the API or functionality can happen at any moment.\n",
      "  warnings.warn('Lazy modules are a new feature under heavy development '\n"
     ]
    },
    {
     "data": {
      "text/plain": [
       "<All keys matched successfully>"
      ]
     },
     "execution_count": 15,
     "metadata": {},
     "output_type": "execute_result"
    }
   ],
   "source": [
    "### find model and load\n",
    "args = pbmc_data['args']\n",
    "\n",
    "model_list=os.listdir(args['model_dir'])\n",
    "model_list=[i for i in model_list if '.ipynb_checkpoints' not in i]\n",
    "model_list=[i for i in model_list if 'zinb' in i]\n",
    "model_list=[i for i in model_list if 'best' in i]\n",
    "model_list.sort()\n",
    "\n",
    "data_x_s=pbmc_data['data_x_s']\n",
    "mask_list_dict=pbmc_data['mask_dict']\n",
    "data=pbmc_data['data']\n",
    "\n",
    "model=iGTP(args,mask_list_dict)\n",
    "saved_state_dict = torch.load(args['model_dir']+model_list[1],map_location=\"cpu\")\n",
    "model.load_state_dict(saved_state_dict)"
   ]
  },
  {
   "cell_type": "code",
   "execution_count": 16,
   "id": "04ced07a",
   "metadata": {},
   "outputs": [],
   "source": [
    "model.eval()\n",
    "with torch.no_grad():\n",
    "    _, p, q=model.encode(torch.tensor(data_x_s).float())\n",
    "\n",
    "z=q.loc.cpu().detach().numpy()\n",
    "TP_df=pbmc_data['TP_df']\n",
    "z_tp=z[:,0:len(TP_df)]"
   ]
  },
  {
   "cell_type": "code",
   "execution_count": 17,
   "id": "c7aa8876",
   "metadata": {},
   "outputs": [],
   "source": [
    "ppi_for_sankey = \"BP_response_to_interferon_alpha\""
   ]
  },
  {
   "cell_type": "code",
   "execution_count": 18,
   "id": "b5849b14",
   "metadata": {},
   "outputs": [],
   "source": [
    "bp_alpha_mad = pd.read_csv(\"figure_6_result/BP_response_to_interferon_alpha_mad.csv\")"
   ]
  },
  {
   "cell_type": "code",
   "execution_count": 33,
   "id": "b7036c20",
   "metadata": {},
   "outputs": [],
   "source": [
    "bp_alpha_mad.Interaction = bp_alpha_mad.Interaction.str.replace('-', '_')"
   ]
  },
  {
   "cell_type": "code",
   "execution_count": 19,
   "id": "79314221",
   "metadata": {},
   "outputs": [
    {
     "data": {
      "text/html": [
       "<div>\n",
       "<style scoped>\n",
       "    .dataframe tbody tr th:only-of-type {\n",
       "        vertical-align: middle;\n",
       "    }\n",
       "\n",
       "    .dataframe tbody tr th {\n",
       "        vertical-align: top;\n",
       "    }\n",
       "\n",
       "    .dataframe thead th {\n",
       "        text-align: right;\n",
       "    }\n",
       "</style>\n",
       "<table border=\"1\" class=\"dataframe\">\n",
       "  <thead>\n",
       "    <tr style=\"text-align: right;\">\n",
       "      <th></th>\n",
       "      <th>TP_name</th>\n",
       "      <th>TP_gene</th>\n",
       "    </tr>\n",
       "  </thead>\n",
       "  <tbody>\n",
       "    <tr>\n",
       "      <th>421</th>\n",
       "      <td>BP_response_to_interferon_alpha</td>\n",
       "      <td>[KLHL20, TPR, IFIT2, IFITM3, PYHIN1, GATA3, IF...</td>\n",
       "    </tr>\n",
       "  </tbody>\n",
       "</table>\n",
       "</div>"
      ],
      "text/plain": [
       "                             TP_name  \\\n",
       "421  BP_response_to_interferon_alpha   \n",
       "\n",
       "                                               TP_gene  \n",
       "421  [KLHL20, TPR, IFIT2, IFITM3, PYHIN1, GATA3, IF...  "
      ]
     },
     "execution_count": 19,
     "metadata": {},
     "output_type": "execute_result"
    }
   ],
   "source": [
    "pbmc_data[\"TP_df\"][pbmc_data[\"TP_df\"][\"TP_name\"].str.contains(ppi_for_sankey)]"
   ]
  },
  {
   "cell_type": "code",
   "execution_count": 20,
   "id": "9d6e7c18",
   "metadata": {},
   "outputs": [],
   "source": [
    "tp_index = pbmc_data[\"TP_df\"][pbmc_data[\"TP_df\"][\"TP_name\"].str.contains(ppi_for_sankey)].index[0]"
   ]
  },
  {
   "cell_type": "code",
   "execution_count": 21,
   "id": "e83be49a",
   "metadata": {},
   "outputs": [],
   "source": [
    "decoder_TP_PPI_mask = model.decoder_TP_PPI[0].state_dict()[\"mask\"]\n",
    "decoder_TP_PPI_weight = model.decoder_TP_PPI[0].state_dict()[\"weight\"]\n",
    "decoder_TP_PPI_bias = model.decoder_TP_PPI[0].state_dict()[\"bias\"]\n",
    "\n",
    "ppi_output = torch.tensor(z_tp[:,tp_index]).unsqueeze(1).mm((decoder_TP_PPI_mask[:,tp_index] * decoder_TP_PPI_weight[:,tp_index]).unsqueeze(0))\n",
    "ppi_output += decoder_TP_PPI_bias.unsqueeze(0).expand_as(ppi_output)"
   ]
  },
  {
   "cell_type": "code",
   "execution_count": 23,
   "id": "4c2bba10",
   "metadata": {
    "scrolled": true
   },
   "outputs": [
    {
     "data": {
      "text/html": [
       "<div>\n",
       "<style scoped>\n",
       "    .dataframe tbody tr th:only-of-type {\n",
       "        vertical-align: middle;\n",
       "    }\n",
       "\n",
       "    .dataframe tbody tr th {\n",
       "        vertical-align: top;\n",
       "    }\n",
       "\n",
       "    .dataframe thead th {\n",
       "        text-align: right;\n",
       "    }\n",
       "</style>\n",
       "<table border=\"1\" class=\"dataframe\">\n",
       "  <thead>\n",
       "    <tr style=\"text-align: right;\">\n",
       "      <th></th>\n",
       "      <th>gene1</th>\n",
       "      <th>gene2</th>\n",
       "      <th>Interaction</th>\n",
       "      <th>TP_index</th>\n",
       "    </tr>\n",
       "  </thead>\n",
       "  <tbody>\n",
       "    <tr>\n",
       "      <th>615</th>\n",
       "      <td>AASDHPPT</td>\n",
       "      <td>BABAM1</td>\n",
       "      <td>AASDHPPT_BABAM1</td>\n",
       "      <td>0</td>\n",
       "    </tr>\n",
       "    <tr>\n",
       "      <th>626</th>\n",
       "      <td>AASDHPPT</td>\n",
       "      <td>JUN</td>\n",
       "      <td>AASDHPPT_JUN</td>\n",
       "      <td>1</td>\n",
       "    </tr>\n",
       "  </tbody>\n",
       "</table>\n",
       "</div>"
      ],
      "text/plain": [
       "        gene1   gene2      Interaction  TP_index\n",
       "615  AASDHPPT  BABAM1  AASDHPPT_BABAM1         0\n",
       "626  AASDHPPT     JUN     AASDHPPT_JUN         1"
      ]
     },
     "execution_count": 23,
     "metadata": {},
     "output_type": "execute_result"
    }
   ],
   "source": [
    "pbmc_data[\"ppi_df_1\"].head(2)"
   ]
  },
  {
   "cell_type": "code",
   "execution_count": 24,
   "id": "b07538d8",
   "metadata": {},
   "outputs": [],
   "source": [
    "decoder_PPI_Gene_mask = model.decoder_PPI_Gene[0].state_dict()[\"mask\"]\n",
    "decoder_PPI_Gene_weight = model.decoder_PPI_Gene[0].state_dict()[\"weight\"]\n",
    "decoder_PPI_Gene_bias = model.decoder_PPI_Gene[0].state_dict()[\"bias\"]"
   ]
  },
  {
   "cell_type": "code",
   "execution_count": 28,
   "id": "781bb811",
   "metadata": {},
   "outputs": [
    {
     "name": "stdout",
     "output_type": "stream",
     "text": [
      "[2233, 8749, 10050, 13127, 16864, 18896, 19236, 20323, 20324, 20325, 20326, 20327, 20328, 20329, 20330, 20331]\n"
     ]
    }
   ],
   "source": [
    "ppi_index_BP_response_to_interferon_alpha = []\n",
    "for i in pbmc_data[\"TP_df\"][pbmc_data[\"TP_df\"][\"TP_name\"].str.contains(ppi_for_sankey)][\"TP_gene\"].iloc[0]:\n",
    "    ppi_index_BP_response_to_interferon_alpha.append(pbmc_data[\"ppi_df_1\"][pbmc_data[\"ppi_df_1\"][\"Interaction\"].str.contains(i)].TP_index.tolist())\n",
    "\n",
    "print(ppi_index_BP_response_to_interferon_alpha[0])\n",
    "###flatten it\n",
    "ppi_index_BP_response_to_interferon_alpha = [item for sublist in ppi_index_BP_response_to_interferon_alpha for item in sublist]\n",
    "\n",
    "ppi_index_BP_response_to_interferon_alpha = list(np.unique(ppi_index_BP_response_to_interferon_alpha))"
   ]
  },
  {
   "cell_type": "code",
   "execution_count": 34,
   "id": "3a02037f",
   "metadata": {},
   "outputs": [
    {
     "data": {
      "text/html": [
       "<div>\n",
       "<style scoped>\n",
       "    .dataframe tbody tr th:only-of-type {\n",
       "        vertical-align: middle;\n",
       "    }\n",
       "\n",
       "    .dataframe tbody tr th {\n",
       "        vertical-align: top;\n",
       "    }\n",
       "\n",
       "    .dataframe thead th {\n",
       "        text-align: right;\n",
       "    }\n",
       "</style>\n",
       "<table border=\"1\" class=\"dataframe\">\n",
       "  <thead>\n",
       "    <tr style=\"text-align: right;\">\n",
       "      <th></th>\n",
       "      <th>gene1</th>\n",
       "      <th>gene2</th>\n",
       "      <th>Interaction</th>\n",
       "      <th>TP_index</th>\n",
       "    </tr>\n",
       "  </thead>\n",
       "  <tbody>\n",
       "    <tr>\n",
       "      <th>161938</th>\n",
       "      <td>ERBB2</td>\n",
       "      <td>IFITM3</td>\n",
       "      <td>ERBB2_IFITM3</td>\n",
       "      <td>13240</td>\n",
       "    </tr>\n",
       "    <tr>\n",
       "      <th>184542</th>\n",
       "      <td>FYN</td>\n",
       "      <td>IFITM3</td>\n",
       "      <td>FYN_IFITM3</td>\n",
       "      <td>15336</td>\n",
       "    </tr>\n",
       "    <tr>\n",
       "      <th>188464</th>\n",
       "      <td>GATA3</td>\n",
       "      <td>MTA3</td>\n",
       "      <td>GATA3_MTA3</td>\n",
       "      <td>15691</td>\n",
       "    </tr>\n",
       "    <tr>\n",
       "      <th>188488</th>\n",
       "      <td>GATA3</td>\n",
       "      <td>TBX21</td>\n",
       "      <td>GATA3_TBX21</td>\n",
       "      <td>15702</td>\n",
       "    </tr>\n",
       "    <tr>\n",
       "      <th>235666</th>\n",
       "      <td>IFITM3</td>\n",
       "      <td>RUVBL2</td>\n",
       "      <td>IFITM3_RUVBL2</td>\n",
       "      <td>18378</td>\n",
       "    </tr>\n",
       "    <tr>\n",
       "      <th>235668</th>\n",
       "      <td>IFITM3</td>\n",
       "      <td>SRF</td>\n",
       "      <td>IFITM3_SRF</td>\n",
       "      <td>18379</td>\n",
       "    </tr>\n",
       "    <tr>\n",
       "      <th>235669</th>\n",
       "      <td>IFITM3</td>\n",
       "      <td>STAT3</td>\n",
       "      <td>IFITM3_STAT3</td>\n",
       "      <td>18380</td>\n",
       "    </tr>\n",
       "  </tbody>\n",
       "</table>\n",
       "</div>"
      ],
      "text/plain": [
       "         gene1   gene2    Interaction  TP_index\n",
       "161938   ERBB2  IFITM3   ERBB2_IFITM3     13240\n",
       "184542     FYN  IFITM3     FYN_IFITM3     15336\n",
       "188464   GATA3    MTA3     GATA3_MTA3     15691\n",
       "188488   GATA3   TBX21    GATA3_TBX21     15702\n",
       "235666  IFITM3  RUVBL2  IFITM3_RUVBL2     18378\n",
       "235668  IFITM3     SRF     IFITM3_SRF     18379\n",
       "235669  IFITM3   STAT3   IFITM3_STAT3     18380"
      ]
     },
     "execution_count": 34,
     "metadata": {},
     "output_type": "execute_result"
    }
   ],
   "source": [
    "pbmc_data[\"ppi_df_1\"][pbmc_data[\"ppi_df_1\"][\"Interaction\"].isin(bp_alpha_mad.Interaction.tolist())]"
   ]
  },
  {
   "cell_type": "code",
   "execution_count": 35,
   "id": "261ce9a1",
   "metadata": {},
   "outputs": [],
   "source": [
    "ppi_index_BP_response_to_interferon_alpha = pbmc_data[\"ppi_df_1\"][pbmc_data[\"ppi_df_1\"][\"Interaction\"].isin(bp_alpha_mad.Interaction.tolist())].TP_index.tolist()"
   ]
  },
  {
   "cell_type": "code",
   "execution_count": 36,
   "id": "153dfd87",
   "metadata": {},
   "outputs": [],
   "source": [
    "gene_output = ppi_output[:,ppi_index_BP_response_to_interferon_alpha].mm((decoder_PPI_Gene_mask[:,ppi_index_BP_response_to_interferon_alpha] * decoder_PPI_Gene_weight[:,ppi_index_BP_response_to_interferon_alpha]).T)\n",
    "gene_output += decoder_PPI_Gene_bias.unsqueeze(0).expand_as(gene_output)"
   ]
  },
  {
   "cell_type": "code",
   "execution_count": 37,
   "id": "15cce13b",
   "metadata": {},
   "outputs": [],
   "source": [
    "### select gene group 1\n",
    "gene_inf_alpha_index_ls = pbmc_data[\"seq_gene_df\"][(pbmc_data[\"seq_gene_df\"].gene.isin(pbmc_data[\"TP_df\"][pbmc_data[\"TP_df\"][\"TP_name\"].str.contains(ppi_for_sankey)][\"TP_gene\"].iloc[0])) & (pbmc_data[\"seq_gene_df\"][\"gene_group\"] == 1)].new_gene_index.tolist()"
   ]
  },
  {
   "cell_type": "code",
   "execution_count": 38,
   "id": "92c91bc5",
   "metadata": {},
   "outputs": [
    {
     "name": "stdout",
     "output_type": "stream",
     "text": [
      "(28871,)\n",
      "torch.Size([28871, 7])\n",
      "torch.Size([28871, 7])\n"
     ]
    }
   ],
   "source": [
    "print(z_tp[:,tp_index].shape)\n",
    "print(ppi_output[:,ppi_index_BP_response_to_interferon_alpha].shape)\n",
    "print(gene_output[:,gene_inf_alpha_index_ls].shape)"
   ]
  },
  {
   "cell_type": "code",
   "execution_count": 39,
   "id": "afca9922",
   "metadata": {},
   "outputs": [
    {
     "data": {
      "text/plain": [
       "29266"
      ]
     },
     "execution_count": 39,
     "metadata": {},
     "output_type": "execute_result"
    }
   ],
   "source": [
    "len((decoder_TP_PPI_mask[:,tp_index] * decoder_TP_PPI_weight[:,tp_index]).numpy().tolist())"
   ]
  },
  {
   "cell_type": "code",
   "execution_count": 40,
   "id": "6737b2a9",
   "metadata": {},
   "outputs": [
    {
     "data": {
      "text/plain": [
       "155"
      ]
     },
     "execution_count": 40,
     "metadata": {},
     "output_type": "execute_result"
    }
   ],
   "source": [
    "sum(1 for item in (decoder_TP_PPI_mask[:,tp_index] * decoder_TP_PPI_weight[:,tp_index]).numpy().tolist() if item != 0)"
   ]
  },
  {
   "cell_type": "code",
   "execution_count": 57,
   "id": "ce150d8c",
   "metadata": {},
   "outputs": [],
   "source": [
    "###firstly, we try to use parameter as sankey value\n",
    "\n",
    "mat1 = (decoder_TP_PPI_mask[:,tp_index] * decoder_TP_PPI_weight[:,tp_index])[ppi_index_BP_response_to_interferon_alpha].unsqueeze(0)\n",
    "mat2 = (decoder_PPI_Gene_mask[:,ppi_index_BP_response_to_interferon_alpha] * decoder_PPI_Gene_weight[:,ppi_index_BP_response_to_interferon_alpha]).T[:,gene_inf_alpha_index_ls]"
   ]
  },
  {
   "cell_type": "code",
   "execution_count": 58,
   "id": "2249f0e6",
   "metadata": {},
   "outputs": [
    {
     "data": {
      "text/plain": [
       "tensor([1, 1, 1, 1, 1, 1, 1])"
      ]
     },
     "execution_count": 58,
     "metadata": {},
     "output_type": "execute_result"
    }
   ],
   "source": [
    "torch.sum(mat2 != 0, dim=1)"
   ]
  },
  {
   "cell_type": "code",
   "execution_count": 59,
   "id": "4fad2cc7",
   "metadata": {},
   "outputs": [
    {
     "data": {
      "text/plain": [
       "torch.Size([1, 7])"
      ]
     },
     "execution_count": 59,
     "metadata": {},
     "output_type": "execute_result"
    }
   ],
   "source": [
    "mat1.shape"
   ]
  },
  {
   "cell_type": "code",
   "execution_count": 60,
   "id": "e5beb124",
   "metadata": {},
   "outputs": [],
   "source": [
    "num_select_ppi = mat1.shape[1]\n",
    "mat1 = mat1[:,0:num_select_ppi].abs()\n",
    "mat2 = mat2[0:num_select_ppi,:].abs()"
   ]
  },
  {
   "cell_type": "code",
   "execution_count": 61,
   "id": "13b842e8",
   "metadata": {},
   "outputs": [],
   "source": [
    "mat2[torch.nonzero(mat1[0] == 0).squeeze(),:] = 0"
   ]
  },
  {
   "cell_type": "code",
   "execution_count": 62,
   "id": "a0b95f6c",
   "metadata": {},
   "outputs": [],
   "source": [
    "# Get the shape of the matrices\n",
    "rows, cols = mat1.shape\n",
    "\n",
    "# Initialize empty lists for sources, targets, and values\n",
    "sources = []\n",
    "targets = []\n",
    "values = []\n",
    "\n",
    "# Node names for layers\n",
    "layer1_nodes = [\"BP_response_to_interferon_alpha\"]\n",
    "layer1_nodes_color=['red']*len(layer1_nodes)\n",
    "layer2_nodes = [pbmc_data[\"ppi_df_1\"][pbmc_data[\"ppi_df_1\"].TP_index == i][\"Interaction\"].values[0] for i in ppi_index_BP_response_to_interferon_alpha]\n",
    "layer2_nodes = layer2_nodes[0:num_select_ppi]\n",
    "layer2_nodes_color=['blue']*len(layer2_nodes)\n",
    "layer3_nodes = [pbmc_data[\"seq_gene_df\"][pbmc_data[\"seq_gene_df\"].new_gene_index == i][\"gene\"].values[0] for i in gene_inf_alpha_index_ls]\n",
    "layer3_nodes_color=['green']*len(layer3_nodes)"
   ]
  },
  {
   "cell_type": "code",
   "execution_count": 63,
   "id": "96949e32",
   "metadata": {},
   "outputs": [
    {
     "data": {
      "text/plain": [
       "['GATA3', 'IFIT2', 'IFIT3', 'IFITM3', 'KLHL20', 'PYHIN1', 'TPR']"
      ]
     },
     "execution_count": 63,
     "metadata": {},
     "output_type": "execute_result"
    }
   ],
   "source": [
    "layer3_nodes"
   ]
  },
  {
   "cell_type": "code",
   "execution_count": 64,
   "id": "de4a764c",
   "metadata": {},
   "outputs": [
    {
     "data": {
      "text/plain": [
       "7"
      ]
     },
     "execution_count": 64,
     "metadata": {},
     "output_type": "execute_result"
    }
   ],
   "source": [
    "len(layer2_nodes)"
   ]
  },
  {
   "cell_type": "code",
   "execution_count": 65,
   "id": "ee91d334",
   "metadata": {},
   "outputs": [
    {
     "data": {
      "text/plain": [
       "7"
      ]
     },
     "execution_count": 65,
     "metadata": {},
     "output_type": "execute_result"
    }
   ],
   "source": [
    "cols"
   ]
  },
  {
   "cell_type": "code",
   "execution_count": 66,
   "id": "acbc2c3e",
   "metadata": {},
   "outputs": [],
   "source": [
    "# Iterate through the matrices to create connections\n",
    "for i in range(rows):\n",
    "    if torch.all(torch.abs(mat1[i]) < 0.05):\n",
    "        print(i)\n",
    "        pass\n",
    "    else:\n",
    "        for j in range(cols):\n",
    "            source_node = layer1_nodes[i]  # Node in layer1\n",
    "            target_node = layer2_nodes[j]  # Node in layer2\n",
    "            value = mat1[i, j]\n",
    "\n",
    "            # Only add non-zero values to the Sankey diagram\n",
    "            #if abs(value) > 0.05:\n",
    "            if value != 0:\n",
    "                sources.append(source_node)\n",
    "                targets.append(target_node)\n",
    "                values.append(value)"
   ]
  },
  {
   "cell_type": "code",
   "execution_count": 67,
   "id": "bb3a1316",
   "metadata": {},
   "outputs": [],
   "source": [
    "positions_in_layer2nodes = {element: index for index, element in enumerate(layer2_nodes)}\n",
    "positions_in_layer2nodes = [positions_in_layer2nodes[element] for element in targets]"
   ]
  },
  {
   "cell_type": "code",
   "execution_count": 68,
   "id": "e26f2c3c",
   "metadata": {},
   "outputs": [],
   "source": [
    "# Repeat the process for connections from layer2 to layer3\n",
    "mat2 = mat2[positions_in_layer2nodes,:]\n",
    "rows, cols = mat2.shape\n",
    "for i in range(rows):\n",
    "    if torch.all(torch.abs(mat2[i]) < 0.000001):\n",
    "        #print(i)\n",
    "        pass\n",
    "    else:\n",
    "        for j in range(cols):\n",
    "            source_node = layer2_nodes[positions_in_layer2nodes[i]]  # Node in layer2\n",
    "            target_node = layer3_nodes[j]  # Node in layer3\n",
    "            value = mat2[i, j]\n",
    " \n",
    "            # Only add non-zero values to the Sankey diagram\n",
    "            #if abs(value) > 0.05:\n",
    "            if value != 0:\n",
    "                sources.append(source_node)\n",
    "                targets.append(target_node)\n",
    "                values.append(value)"
   ]
  },
  {
   "cell_type": "code",
   "execution_count": 69,
   "id": "b986e0be",
   "metadata": {},
   "outputs": [],
   "source": [
    "names = layer1_nodes+layer2_nodes+layer3_nodes\n",
    "name_to_index = {}\n",
    "for index, name in enumerate(names):\n",
    "    name_to_index[name] = index"
   ]
  },
  {
   "cell_type": "code",
   "execution_count": 70,
   "id": "0145ab8f",
   "metadata": {},
   "outputs": [
    {
     "data": {
      "application/vnd.plotly.v1+json": {
       "config": {
        "plotlyServerURL": "https://plot.ly"
       },
       "data": [
        {
         "link": {
          "source": [
           0,
           0,
           0,
           0,
           0,
           0,
           0,
           1,
           2,
           3,
           4,
           5,
           6,
           7
          ],
          "target": [
           1,
           2,
           3,
           4,
           5,
           6,
           7,
           11,
           11,
           8,
           8,
           11,
           11,
           11
          ],
          "value": [
           0.01524408906698227,
           0.004037666134536266,
           0.08521171659231186,
           0.00033333239844068885,
           0.007915903814136982,
           0.025091420859098434,
           0.1024666279554367,
           0.016908610239624977,
           0.03931605815887451,
           0.021435271948575974,
           0.07532370835542679,
           0.0056616198271512985,
           0.04971912130713463,
           0.17337195575237274
          ]
         },
         "node": {
          "color": [
           "red",
           "blue",
           "blue",
           "blue",
           "blue",
           "blue",
           "blue",
           "blue",
           "green",
           "green",
           "green",
           "green",
           "green",
           "green",
           "green"
          ],
          "label": [
           "BP_response_to_interferon_alpha",
           "ERBB2_IFITM3",
           "FYN_IFITM3",
           "GATA3_MTA3",
           "GATA3_TBX21",
           "IFITM3_RUVBL2",
           "IFITM3_SRF",
           "IFITM3_STAT3",
           "GATA3",
           "IFIT2",
           "IFIT3",
           "IFITM3",
           "KLHL20",
           "PYHIN1",
           "TPR"
          ]
         },
         "type": "sankey"
        }
       ],
       "layout": {
        "font": {
         "size": 14
        },
        "template": {
         "data": {
          "bar": [
           {
            "error_x": {
             "color": "#2a3f5f"
            },
            "error_y": {
             "color": "#2a3f5f"
            },
            "marker": {
             "line": {
              "color": "#E5ECF6",
              "width": 0.5
             },
             "pattern": {
              "fillmode": "overlay",
              "size": 10,
              "solidity": 0.2
             }
            },
            "type": "bar"
           }
          ],
          "barpolar": [
           {
            "marker": {
             "line": {
              "color": "#E5ECF6",
              "width": 0.5
             },
             "pattern": {
              "fillmode": "overlay",
              "size": 10,
              "solidity": 0.2
             }
            },
            "type": "barpolar"
           }
          ],
          "carpet": [
           {
            "aaxis": {
             "endlinecolor": "#2a3f5f",
             "gridcolor": "white",
             "linecolor": "white",
             "minorgridcolor": "white",
             "startlinecolor": "#2a3f5f"
            },
            "baxis": {
             "endlinecolor": "#2a3f5f",
             "gridcolor": "white",
             "linecolor": "white",
             "minorgridcolor": "white",
             "startlinecolor": "#2a3f5f"
            },
            "type": "carpet"
           }
          ],
          "choropleth": [
           {
            "colorbar": {
             "outlinewidth": 0,
             "ticks": ""
            },
            "type": "choropleth"
           }
          ],
          "contour": [
           {
            "colorbar": {
             "outlinewidth": 0,
             "ticks": ""
            },
            "colorscale": [
             [
              0,
              "#0d0887"
             ],
             [
              0.1111111111111111,
              "#46039f"
             ],
             [
              0.2222222222222222,
              "#7201a8"
             ],
             [
              0.3333333333333333,
              "#9c179e"
             ],
             [
              0.4444444444444444,
              "#bd3786"
             ],
             [
              0.5555555555555556,
              "#d8576b"
             ],
             [
              0.6666666666666666,
              "#ed7953"
             ],
             [
              0.7777777777777778,
              "#fb9f3a"
             ],
             [
              0.8888888888888888,
              "#fdca26"
             ],
             [
              1,
              "#f0f921"
             ]
            ],
            "type": "contour"
           }
          ],
          "contourcarpet": [
           {
            "colorbar": {
             "outlinewidth": 0,
             "ticks": ""
            },
            "type": "contourcarpet"
           }
          ],
          "heatmap": [
           {
            "colorbar": {
             "outlinewidth": 0,
             "ticks": ""
            },
            "colorscale": [
             [
              0,
              "#0d0887"
             ],
             [
              0.1111111111111111,
              "#46039f"
             ],
             [
              0.2222222222222222,
              "#7201a8"
             ],
             [
              0.3333333333333333,
              "#9c179e"
             ],
             [
              0.4444444444444444,
              "#bd3786"
             ],
             [
              0.5555555555555556,
              "#d8576b"
             ],
             [
              0.6666666666666666,
              "#ed7953"
             ],
             [
              0.7777777777777778,
              "#fb9f3a"
             ],
             [
              0.8888888888888888,
              "#fdca26"
             ],
             [
              1,
              "#f0f921"
             ]
            ],
            "type": "heatmap"
           }
          ],
          "heatmapgl": [
           {
            "colorbar": {
             "outlinewidth": 0,
             "ticks": ""
            },
            "colorscale": [
             [
              0,
              "#0d0887"
             ],
             [
              0.1111111111111111,
              "#46039f"
             ],
             [
              0.2222222222222222,
              "#7201a8"
             ],
             [
              0.3333333333333333,
              "#9c179e"
             ],
             [
              0.4444444444444444,
              "#bd3786"
             ],
             [
              0.5555555555555556,
              "#d8576b"
             ],
             [
              0.6666666666666666,
              "#ed7953"
             ],
             [
              0.7777777777777778,
              "#fb9f3a"
             ],
             [
              0.8888888888888888,
              "#fdca26"
             ],
             [
              1,
              "#f0f921"
             ]
            ],
            "type": "heatmapgl"
           }
          ],
          "histogram": [
           {
            "marker": {
             "pattern": {
              "fillmode": "overlay",
              "size": 10,
              "solidity": 0.2
             }
            },
            "type": "histogram"
           }
          ],
          "histogram2d": [
           {
            "colorbar": {
             "outlinewidth": 0,
             "ticks": ""
            },
            "colorscale": [
             [
              0,
              "#0d0887"
             ],
             [
              0.1111111111111111,
              "#46039f"
             ],
             [
              0.2222222222222222,
              "#7201a8"
             ],
             [
              0.3333333333333333,
              "#9c179e"
             ],
             [
              0.4444444444444444,
              "#bd3786"
             ],
             [
              0.5555555555555556,
              "#d8576b"
             ],
             [
              0.6666666666666666,
              "#ed7953"
             ],
             [
              0.7777777777777778,
              "#fb9f3a"
             ],
             [
              0.8888888888888888,
              "#fdca26"
             ],
             [
              1,
              "#f0f921"
             ]
            ],
            "type": "histogram2d"
           }
          ],
          "histogram2dcontour": [
           {
            "colorbar": {
             "outlinewidth": 0,
             "ticks": ""
            },
            "colorscale": [
             [
              0,
              "#0d0887"
             ],
             [
              0.1111111111111111,
              "#46039f"
             ],
             [
              0.2222222222222222,
              "#7201a8"
             ],
             [
              0.3333333333333333,
              "#9c179e"
             ],
             [
              0.4444444444444444,
              "#bd3786"
             ],
             [
              0.5555555555555556,
              "#d8576b"
             ],
             [
              0.6666666666666666,
              "#ed7953"
             ],
             [
              0.7777777777777778,
              "#fb9f3a"
             ],
             [
              0.8888888888888888,
              "#fdca26"
             ],
             [
              1,
              "#f0f921"
             ]
            ],
            "type": "histogram2dcontour"
           }
          ],
          "mesh3d": [
           {
            "colorbar": {
             "outlinewidth": 0,
             "ticks": ""
            },
            "type": "mesh3d"
           }
          ],
          "parcoords": [
           {
            "line": {
             "colorbar": {
              "outlinewidth": 0,
              "ticks": ""
             }
            },
            "type": "parcoords"
           }
          ],
          "pie": [
           {
            "automargin": true,
            "type": "pie"
           }
          ],
          "scatter": [
           {
            "fillpattern": {
             "fillmode": "overlay",
             "size": 10,
             "solidity": 0.2
            },
            "type": "scatter"
           }
          ],
          "scatter3d": [
           {
            "line": {
             "colorbar": {
              "outlinewidth": 0,
              "ticks": ""
             }
            },
            "marker": {
             "colorbar": {
              "outlinewidth": 0,
              "ticks": ""
             }
            },
            "type": "scatter3d"
           }
          ],
          "scattercarpet": [
           {
            "marker": {
             "colorbar": {
              "outlinewidth": 0,
              "ticks": ""
             }
            },
            "type": "scattercarpet"
           }
          ],
          "scattergeo": [
           {
            "marker": {
             "colorbar": {
              "outlinewidth": 0,
              "ticks": ""
             }
            },
            "type": "scattergeo"
           }
          ],
          "scattergl": [
           {
            "marker": {
             "colorbar": {
              "outlinewidth": 0,
              "ticks": ""
             }
            },
            "type": "scattergl"
           }
          ],
          "scattermapbox": [
           {
            "marker": {
             "colorbar": {
              "outlinewidth": 0,
              "ticks": ""
             }
            },
            "type": "scattermapbox"
           }
          ],
          "scatterpolar": [
           {
            "marker": {
             "colorbar": {
              "outlinewidth": 0,
              "ticks": ""
             }
            },
            "type": "scatterpolar"
           }
          ],
          "scatterpolargl": [
           {
            "marker": {
             "colorbar": {
              "outlinewidth": 0,
              "ticks": ""
             }
            },
            "type": "scatterpolargl"
           }
          ],
          "scatterternary": [
           {
            "marker": {
             "colorbar": {
              "outlinewidth": 0,
              "ticks": ""
             }
            },
            "type": "scatterternary"
           }
          ],
          "surface": [
           {
            "colorbar": {
             "outlinewidth": 0,
             "ticks": ""
            },
            "colorscale": [
             [
              0,
              "#0d0887"
             ],
             [
              0.1111111111111111,
              "#46039f"
             ],
             [
              0.2222222222222222,
              "#7201a8"
             ],
             [
              0.3333333333333333,
              "#9c179e"
             ],
             [
              0.4444444444444444,
              "#bd3786"
             ],
             [
              0.5555555555555556,
              "#d8576b"
             ],
             [
              0.6666666666666666,
              "#ed7953"
             ],
             [
              0.7777777777777778,
              "#fb9f3a"
             ],
             [
              0.8888888888888888,
              "#fdca26"
             ],
             [
              1,
              "#f0f921"
             ]
            ],
            "type": "surface"
           }
          ],
          "table": [
           {
            "cells": {
             "fill": {
              "color": "#EBF0F8"
             },
             "line": {
              "color": "white"
             }
            },
            "header": {
             "fill": {
              "color": "#C8D4E3"
             },
             "line": {
              "color": "white"
             }
            },
            "type": "table"
           }
          ]
         },
         "layout": {
          "annotationdefaults": {
           "arrowcolor": "#2a3f5f",
           "arrowhead": 0,
           "arrowwidth": 1
          },
          "autotypenumbers": "strict",
          "coloraxis": {
           "colorbar": {
            "outlinewidth": 0,
            "ticks": ""
           }
          },
          "colorscale": {
           "diverging": [
            [
             0,
             "#8e0152"
            ],
            [
             0.1,
             "#c51b7d"
            ],
            [
             0.2,
             "#de77ae"
            ],
            [
             0.3,
             "#f1b6da"
            ],
            [
             0.4,
             "#fde0ef"
            ],
            [
             0.5,
             "#f7f7f7"
            ],
            [
             0.6,
             "#e6f5d0"
            ],
            [
             0.7,
             "#b8e186"
            ],
            [
             0.8,
             "#7fbc41"
            ],
            [
             0.9,
             "#4d9221"
            ],
            [
             1,
             "#276419"
            ]
           ],
           "sequential": [
            [
             0,
             "#0d0887"
            ],
            [
             0.1111111111111111,
             "#46039f"
            ],
            [
             0.2222222222222222,
             "#7201a8"
            ],
            [
             0.3333333333333333,
             "#9c179e"
            ],
            [
             0.4444444444444444,
             "#bd3786"
            ],
            [
             0.5555555555555556,
             "#d8576b"
            ],
            [
             0.6666666666666666,
             "#ed7953"
            ],
            [
             0.7777777777777778,
             "#fb9f3a"
            ],
            [
             0.8888888888888888,
             "#fdca26"
            ],
            [
             1,
             "#f0f921"
            ]
           ],
           "sequentialminus": [
            [
             0,
             "#0d0887"
            ],
            [
             0.1111111111111111,
             "#46039f"
            ],
            [
             0.2222222222222222,
             "#7201a8"
            ],
            [
             0.3333333333333333,
             "#9c179e"
            ],
            [
             0.4444444444444444,
             "#bd3786"
            ],
            [
             0.5555555555555556,
             "#d8576b"
            ],
            [
             0.6666666666666666,
             "#ed7953"
            ],
            [
             0.7777777777777778,
             "#fb9f3a"
            ],
            [
             0.8888888888888888,
             "#fdca26"
            ],
            [
             1,
             "#f0f921"
            ]
           ]
          },
          "colorway": [
           "#636efa",
           "#EF553B",
           "#00cc96",
           "#ab63fa",
           "#FFA15A",
           "#19d3f3",
           "#FF6692",
           "#B6E880",
           "#FF97FF",
           "#FECB52"
          ],
          "font": {
           "color": "#2a3f5f"
          },
          "geo": {
           "bgcolor": "white",
           "lakecolor": "white",
           "landcolor": "#E5ECF6",
           "showlakes": true,
           "showland": true,
           "subunitcolor": "white"
          },
          "hoverlabel": {
           "align": "left"
          },
          "hovermode": "closest",
          "mapbox": {
           "style": "light"
          },
          "paper_bgcolor": "white",
          "plot_bgcolor": "#E5ECF6",
          "polar": {
           "angularaxis": {
            "gridcolor": "white",
            "linecolor": "white",
            "ticks": ""
           },
           "bgcolor": "#E5ECF6",
           "radialaxis": {
            "gridcolor": "white",
            "linecolor": "white",
            "ticks": ""
           }
          },
          "scene": {
           "xaxis": {
            "backgroundcolor": "#E5ECF6",
            "gridcolor": "white",
            "gridwidth": 2,
            "linecolor": "white",
            "showbackground": true,
            "ticks": "",
            "zerolinecolor": "white"
           },
           "yaxis": {
            "backgroundcolor": "#E5ECF6",
            "gridcolor": "white",
            "gridwidth": 2,
            "linecolor": "white",
            "showbackground": true,
            "ticks": "",
            "zerolinecolor": "white"
           },
           "zaxis": {
            "backgroundcolor": "#E5ECF6",
            "gridcolor": "white",
            "gridwidth": 2,
            "linecolor": "white",
            "showbackground": true,
            "ticks": "",
            "zerolinecolor": "white"
           }
          },
          "shapedefaults": {
           "line": {
            "color": "#2a3f5f"
           }
          },
          "ternary": {
           "aaxis": {
            "gridcolor": "white",
            "linecolor": "white",
            "ticks": ""
           },
           "baxis": {
            "gridcolor": "white",
            "linecolor": "white",
            "ticks": ""
           },
           "bgcolor": "#E5ECF6",
           "caxis": {
            "gridcolor": "white",
            "linecolor": "white",
            "ticks": ""
           }
          },
          "title": {
           "x": 0.05
          },
          "xaxis": {
           "automargin": true,
           "gridcolor": "white",
           "linecolor": "white",
           "ticks": "",
           "title": {
            "standoff": 15
           },
           "zerolinecolor": "white",
           "zerolinewidth": 2
          },
          "yaxis": {
           "automargin": true,
           "gridcolor": "white",
           "linecolor": "white",
           "ticks": "",
           "title": {
            "standoff": 15
           },
           "zerolinecolor": "white",
           "zerolinewidth": 2
          }
         }
        },
        "title": {
         "text": "BP_response_to_interferon_alpha"
        }
       }
      },
      "text/html": [
       "<div>                            <div id=\"d98f1dcc-9d44-41b2-8de2-587c67d88086\" class=\"plotly-graph-div\" style=\"height:525px; width:100%;\"></div>            <script type=\"text/javascript\">                require([\"plotly\"], function(Plotly) {                    window.PLOTLYENV=window.PLOTLYENV || {};                                    if (document.getElementById(\"d98f1dcc-9d44-41b2-8de2-587c67d88086\")) {                    Plotly.newPlot(                        \"d98f1dcc-9d44-41b2-8de2-587c67d88086\",                        [{\"link\":{\"source\":[0,0,0,0,0,0,0,1,2,3,4,5,6,7],\"target\":[1,2,3,4,5,6,7,11,11,8,8,11,11,11],\"value\":[0.01524408906698227,0.004037666134536266,0.08521171659231186,0.00033333239844068885,0.007915903814136982,0.025091420859098434,0.1024666279554367,0.016908610239624977,0.03931605815887451,0.021435271948575974,0.07532370835542679,0.0056616198271512985,0.04971912130713463,0.17337195575237274]},\"node\":{\"color\":[\"red\",\"blue\",\"blue\",\"blue\",\"blue\",\"blue\",\"blue\",\"blue\",\"green\",\"green\",\"green\",\"green\",\"green\",\"green\",\"green\"],\"label\":[\"BP_response_to_interferon_alpha\",\"ERBB2_IFITM3\",\"FYN_IFITM3\",\"GATA3_MTA3\",\"GATA3_TBX21\",\"IFITM3_RUVBL2\",\"IFITM3_SRF\",\"IFITM3_STAT3\",\"GATA3\",\"IFIT2\",\"IFIT3\",\"IFITM3\",\"KLHL20\",\"PYHIN1\",\"TPR\"]},\"type\":\"sankey\"}],                        {\"template\":{\"data\":{\"histogram2dcontour\":[{\"type\":\"histogram2dcontour\",\"colorbar\":{\"outlinewidth\":0,\"ticks\":\"\"},\"colorscale\":[[0.0,\"#0d0887\"],[0.1111111111111111,\"#46039f\"],[0.2222222222222222,\"#7201a8\"],[0.3333333333333333,\"#9c179e\"],[0.4444444444444444,\"#bd3786\"],[0.5555555555555556,\"#d8576b\"],[0.6666666666666666,\"#ed7953\"],[0.7777777777777778,\"#fb9f3a\"],[0.8888888888888888,\"#fdca26\"],[1.0,\"#f0f921\"]]}],\"choropleth\":[{\"type\":\"choropleth\",\"colorbar\":{\"outlinewidth\":0,\"ticks\":\"\"}}],\"histogram2d\":[{\"type\":\"histogram2d\",\"colorbar\":{\"outlinewidth\":0,\"ticks\":\"\"},\"colorscale\":[[0.0,\"#0d0887\"],[0.1111111111111111,\"#46039f\"],[0.2222222222222222,\"#7201a8\"],[0.3333333333333333,\"#9c179e\"],[0.4444444444444444,\"#bd3786\"],[0.5555555555555556,\"#d8576b\"],[0.6666666666666666,\"#ed7953\"],[0.7777777777777778,\"#fb9f3a\"],[0.8888888888888888,\"#fdca26\"],[1.0,\"#f0f921\"]]}],\"heatmap\":[{\"type\":\"heatmap\",\"colorbar\":{\"outlinewidth\":0,\"ticks\":\"\"},\"colorscale\":[[0.0,\"#0d0887\"],[0.1111111111111111,\"#46039f\"],[0.2222222222222222,\"#7201a8\"],[0.3333333333333333,\"#9c179e\"],[0.4444444444444444,\"#bd3786\"],[0.5555555555555556,\"#d8576b\"],[0.6666666666666666,\"#ed7953\"],[0.7777777777777778,\"#fb9f3a\"],[0.8888888888888888,\"#fdca26\"],[1.0,\"#f0f921\"]]}],\"heatmapgl\":[{\"type\":\"heatmapgl\",\"colorbar\":{\"outlinewidth\":0,\"ticks\":\"\"},\"colorscale\":[[0.0,\"#0d0887\"],[0.1111111111111111,\"#46039f\"],[0.2222222222222222,\"#7201a8\"],[0.3333333333333333,\"#9c179e\"],[0.4444444444444444,\"#bd3786\"],[0.5555555555555556,\"#d8576b\"],[0.6666666666666666,\"#ed7953\"],[0.7777777777777778,\"#fb9f3a\"],[0.8888888888888888,\"#fdca26\"],[1.0,\"#f0f921\"]]}],\"contourcarpet\":[{\"type\":\"contourcarpet\",\"colorbar\":{\"outlinewidth\":0,\"ticks\":\"\"}}],\"contour\":[{\"type\":\"contour\",\"colorbar\":{\"outlinewidth\":0,\"ticks\":\"\"},\"colorscale\":[[0.0,\"#0d0887\"],[0.1111111111111111,\"#46039f\"],[0.2222222222222222,\"#7201a8\"],[0.3333333333333333,\"#9c179e\"],[0.4444444444444444,\"#bd3786\"],[0.5555555555555556,\"#d8576b\"],[0.6666666666666666,\"#ed7953\"],[0.7777777777777778,\"#fb9f3a\"],[0.8888888888888888,\"#fdca26\"],[1.0,\"#f0f921\"]]}],\"surface\":[{\"type\":\"surface\",\"colorbar\":{\"outlinewidth\":0,\"ticks\":\"\"},\"colorscale\":[[0.0,\"#0d0887\"],[0.1111111111111111,\"#46039f\"],[0.2222222222222222,\"#7201a8\"],[0.3333333333333333,\"#9c179e\"],[0.4444444444444444,\"#bd3786\"],[0.5555555555555556,\"#d8576b\"],[0.6666666666666666,\"#ed7953\"],[0.7777777777777778,\"#fb9f3a\"],[0.8888888888888888,\"#fdca26\"],[1.0,\"#f0f921\"]]}],\"mesh3d\":[{\"type\":\"mesh3d\",\"colorbar\":{\"outlinewidth\":0,\"ticks\":\"\"}}],\"scatter\":[{\"fillpattern\":{\"fillmode\":\"overlay\",\"size\":10,\"solidity\":0.2},\"type\":\"scatter\"}],\"parcoords\":[{\"type\":\"parcoords\",\"line\":{\"colorbar\":{\"outlinewidth\":0,\"ticks\":\"\"}}}],\"scatterpolargl\":[{\"type\":\"scatterpolargl\",\"marker\":{\"colorbar\":{\"outlinewidth\":0,\"ticks\":\"\"}}}],\"bar\":[{\"error_x\":{\"color\":\"#2a3f5f\"},\"error_y\":{\"color\":\"#2a3f5f\"},\"marker\":{\"line\":{\"color\":\"#E5ECF6\",\"width\":0.5},\"pattern\":{\"fillmode\":\"overlay\",\"size\":10,\"solidity\":0.2}},\"type\":\"bar\"}],\"scattergeo\":[{\"type\":\"scattergeo\",\"marker\":{\"colorbar\":{\"outlinewidth\":0,\"ticks\":\"\"}}}],\"scatterpolar\":[{\"type\":\"scatterpolar\",\"marker\":{\"colorbar\":{\"outlinewidth\":0,\"ticks\":\"\"}}}],\"histogram\":[{\"marker\":{\"pattern\":{\"fillmode\":\"overlay\",\"size\":10,\"solidity\":0.2}},\"type\":\"histogram\"}],\"scattergl\":[{\"type\":\"scattergl\",\"marker\":{\"colorbar\":{\"outlinewidth\":0,\"ticks\":\"\"}}}],\"scatter3d\":[{\"type\":\"scatter3d\",\"line\":{\"colorbar\":{\"outlinewidth\":0,\"ticks\":\"\"}},\"marker\":{\"colorbar\":{\"outlinewidth\":0,\"ticks\":\"\"}}}],\"scattermapbox\":[{\"type\":\"scattermapbox\",\"marker\":{\"colorbar\":{\"outlinewidth\":0,\"ticks\":\"\"}}}],\"scatterternary\":[{\"type\":\"scatterternary\",\"marker\":{\"colorbar\":{\"outlinewidth\":0,\"ticks\":\"\"}}}],\"scattercarpet\":[{\"type\":\"scattercarpet\",\"marker\":{\"colorbar\":{\"outlinewidth\":0,\"ticks\":\"\"}}}],\"carpet\":[{\"aaxis\":{\"endlinecolor\":\"#2a3f5f\",\"gridcolor\":\"white\",\"linecolor\":\"white\",\"minorgridcolor\":\"white\",\"startlinecolor\":\"#2a3f5f\"},\"baxis\":{\"endlinecolor\":\"#2a3f5f\",\"gridcolor\":\"white\",\"linecolor\":\"white\",\"minorgridcolor\":\"white\",\"startlinecolor\":\"#2a3f5f\"},\"type\":\"carpet\"}],\"table\":[{\"cells\":{\"fill\":{\"color\":\"#EBF0F8\"},\"line\":{\"color\":\"white\"}},\"header\":{\"fill\":{\"color\":\"#C8D4E3\"},\"line\":{\"color\":\"white\"}},\"type\":\"table\"}],\"barpolar\":[{\"marker\":{\"line\":{\"color\":\"#E5ECF6\",\"width\":0.5},\"pattern\":{\"fillmode\":\"overlay\",\"size\":10,\"solidity\":0.2}},\"type\":\"barpolar\"}],\"pie\":[{\"automargin\":true,\"type\":\"pie\"}]},\"layout\":{\"autotypenumbers\":\"strict\",\"colorway\":[\"#636efa\",\"#EF553B\",\"#00cc96\",\"#ab63fa\",\"#FFA15A\",\"#19d3f3\",\"#FF6692\",\"#B6E880\",\"#FF97FF\",\"#FECB52\"],\"font\":{\"color\":\"#2a3f5f\"},\"hovermode\":\"closest\",\"hoverlabel\":{\"align\":\"left\"},\"paper_bgcolor\":\"white\",\"plot_bgcolor\":\"#E5ECF6\",\"polar\":{\"bgcolor\":\"#E5ECF6\",\"angularaxis\":{\"gridcolor\":\"white\",\"linecolor\":\"white\",\"ticks\":\"\"},\"radialaxis\":{\"gridcolor\":\"white\",\"linecolor\":\"white\",\"ticks\":\"\"}},\"ternary\":{\"bgcolor\":\"#E5ECF6\",\"aaxis\":{\"gridcolor\":\"white\",\"linecolor\":\"white\",\"ticks\":\"\"},\"baxis\":{\"gridcolor\":\"white\",\"linecolor\":\"white\",\"ticks\":\"\"},\"caxis\":{\"gridcolor\":\"white\",\"linecolor\":\"white\",\"ticks\":\"\"}},\"coloraxis\":{\"colorbar\":{\"outlinewidth\":0,\"ticks\":\"\"}},\"colorscale\":{\"sequential\":[[0.0,\"#0d0887\"],[0.1111111111111111,\"#46039f\"],[0.2222222222222222,\"#7201a8\"],[0.3333333333333333,\"#9c179e\"],[0.4444444444444444,\"#bd3786\"],[0.5555555555555556,\"#d8576b\"],[0.6666666666666666,\"#ed7953\"],[0.7777777777777778,\"#fb9f3a\"],[0.8888888888888888,\"#fdca26\"],[1.0,\"#f0f921\"]],\"sequentialminus\":[[0.0,\"#0d0887\"],[0.1111111111111111,\"#46039f\"],[0.2222222222222222,\"#7201a8\"],[0.3333333333333333,\"#9c179e\"],[0.4444444444444444,\"#bd3786\"],[0.5555555555555556,\"#d8576b\"],[0.6666666666666666,\"#ed7953\"],[0.7777777777777778,\"#fb9f3a\"],[0.8888888888888888,\"#fdca26\"],[1.0,\"#f0f921\"]],\"diverging\":[[0,\"#8e0152\"],[0.1,\"#c51b7d\"],[0.2,\"#de77ae\"],[0.3,\"#f1b6da\"],[0.4,\"#fde0ef\"],[0.5,\"#f7f7f7\"],[0.6,\"#e6f5d0\"],[0.7,\"#b8e186\"],[0.8,\"#7fbc41\"],[0.9,\"#4d9221\"],[1,\"#276419\"]]},\"xaxis\":{\"gridcolor\":\"white\",\"linecolor\":\"white\",\"ticks\":\"\",\"title\":{\"standoff\":15},\"zerolinecolor\":\"white\",\"automargin\":true,\"zerolinewidth\":2},\"yaxis\":{\"gridcolor\":\"white\",\"linecolor\":\"white\",\"ticks\":\"\",\"title\":{\"standoff\":15},\"zerolinecolor\":\"white\",\"automargin\":true,\"zerolinewidth\":2},\"scene\":{\"xaxis\":{\"backgroundcolor\":\"#E5ECF6\",\"gridcolor\":\"white\",\"linecolor\":\"white\",\"showbackground\":true,\"ticks\":\"\",\"zerolinecolor\":\"white\",\"gridwidth\":2},\"yaxis\":{\"backgroundcolor\":\"#E5ECF6\",\"gridcolor\":\"white\",\"linecolor\":\"white\",\"showbackground\":true,\"ticks\":\"\",\"zerolinecolor\":\"white\",\"gridwidth\":2},\"zaxis\":{\"backgroundcolor\":\"#E5ECF6\",\"gridcolor\":\"white\",\"linecolor\":\"white\",\"showbackground\":true,\"ticks\":\"\",\"zerolinecolor\":\"white\",\"gridwidth\":2}},\"shapedefaults\":{\"line\":{\"color\":\"#2a3f5f\"}},\"annotationdefaults\":{\"arrowcolor\":\"#2a3f5f\",\"arrowhead\":0,\"arrowwidth\":1},\"geo\":{\"bgcolor\":\"white\",\"landcolor\":\"#E5ECF6\",\"subunitcolor\":\"white\",\"showland\":true,\"showlakes\":true,\"lakecolor\":\"white\"},\"title\":{\"x\":0.05},\"mapbox\":{\"style\":\"light\"}}},\"title\":{\"text\":\"BP_response_to_interferon_alpha\"},\"font\":{\"size\":14}},                        {\"responsive\": true}                    ).then(function(){\n",
       "                            \n",
       "var gd = document.getElementById('d98f1dcc-9d44-41b2-8de2-587c67d88086');\n",
       "var x = new MutationObserver(function (mutations, observer) {{\n",
       "        var display = window.getComputedStyle(gd).display;\n",
       "        if (!display || display === 'none') {{\n",
       "            console.log([gd, 'removed!']);\n",
       "            Plotly.purge(gd);\n",
       "            observer.disconnect();\n",
       "        }}\n",
       "}});\n",
       "\n",
       "// Listen for the removal of the full notebook cells\n",
       "var notebookContainer = gd.closest('#notebook-container');\n",
       "if (notebookContainer) {{\n",
       "    x.observe(notebookContainer, {childList: true});\n",
       "}}\n",
       "\n",
       "// Listen for the clearing of the current output cell\n",
       "var outputEl = gd.closest('.output');\n",
       "if (outputEl) {{\n",
       "    x.observe(outputEl, {childList: true});\n",
       "}}\n",
       "\n",
       "                        })                };                });            </script>        </div>"
      ]
     },
     "metadata": {},
     "output_type": "display_data"
    }
   ],
   "source": [
    "import plotly.graph_objects as go\n",
    "\n",
    "fig = go.Figure(data=[go.Sankey(\n",
    "    node = dict(\n",
    "      label = layer1_nodes+layer2_nodes+layer3_nodes,\n",
    "      color = layer1_nodes_color+layer2_nodes_color+layer3_nodes_color\n",
    "    ),\n",
    "    link = dict(\n",
    "      source = [name_to_index[i] for i in sources],\n",
    "      target = [name_to_index[i] for i in targets],\n",
    "      value = values\n",
    "  ))])\n",
    "\n",
    "fig.update_layout(title_text=ppi_for_sankey, font_size=14)\n",
    "fig.show()"
   ]
  },
  {
   "cell_type": "code",
   "execution_count": null,
   "id": "c291f59e",
   "metadata": {},
   "outputs": [],
   "source": [
    "import plotly.graph_objects as go\n",
    "import pandas as pd\n",
    "\n",
    "# Sample DataFrame\n",
    "data = {'X': [1, 2, 3, 4, 5],\n",
    "        'Y': [10, 12, 5, 8, 7],\n",
    "        'Category': ['A', 'B', 'A', 'B', 'A']}\n",
    "df = pd.DataFrame(data)\n",
    "\n",
    "# Define colors for each category\n",
    "colors = {'A': 'red', 'B': 'blue'}\n",
    "\n",
    "# Create a Scatter trace for each category\n",
    "traces = []\n",
    "for category, color in colors.items():\n",
    "    trace = go.Scatter(x=df[df['Category'] == category]['X'],\n",
    "                      y=df[df['Category'] == category]['Y'],\n",
    "                      mode='markers',\n",
    "                      marker=dict(color=color),\n",
    "                      name=category)\n",
    "    traces.append(trace)\n",
    "\n",
    "# Create the layout\n",
    "layout = go.Layout(title='Scatter Plot with Color-Coded Categories',\n",
    "                   xaxis=dict(title='X'),\n",
    "                   yaxis=dict(title='Y'))\n",
    "\n",
    "# Create the figure\n",
    "fig = go.Figure(data=traces, layout=layout)\n",
    "\n",
    "# Show the plot\n",
    "fig.show()\n"
   ]
  },
  {
   "cell_type": "code",
   "execution_count": null,
   "id": "24a08c90",
   "metadata": {},
   "outputs": [],
   "source": []
  },
  {
   "cell_type": "code",
   "execution_count": null,
   "id": "81dc8518",
   "metadata": {},
   "outputs": [],
   "source": []
  },
  {
   "cell_type": "code",
   "execution_count": null,
   "id": "272b4aa0",
   "metadata": {},
   "outputs": [],
   "source": []
  }
 ],
 "metadata": {
  "kernelspec": {
   "display_name": "Python 3 (ipykernel)",
   "language": "python",
   "name": "python3"
  },
  "language_info": {
   "codemirror_mode": {
    "name": "ipython",
    "version": 3
   },
   "file_extension": ".py",
   "mimetype": "text/x-python",
   "name": "python",
   "nbconvert_exporter": "python",
   "pygments_lexer": "ipython3",
   "version": "3.10.12"
  }
 },
 "nbformat": 4,
 "nbformat_minor": 5
}
