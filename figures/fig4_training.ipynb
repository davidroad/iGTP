{
 "cells": [
  {
   "cell_type": "code",
   "execution_count": 1,
   "id": "99e87755",
   "metadata": {},
   "outputs": [],
   "source": [
    "from iGTP_Linear import *\n",
    "from iGTP_model_modified_scvi_sample_final_update import *\n",
    "from preprocess import *\n",
    "from learning_utilies import *\n",
    "import os \n",
    "import scanpy as sc\n",
    "import pickle5 as pickle"
   ]
  },
  {
   "cell_type": "code",
   "execution_count": 2,
   "id": "fa1e9faf",
   "metadata": {},
   "outputs": [
    {
     "name": "stdout",
     "output_type": "stream",
     "text": [
      "['PC.txt', 'PC_homo_v11.txt', 'PPI_compiled.txt']\n",
      "['GO_merged.gmt', 'GO_merged_modify', 'brain_cell_type_function_AD_pathways.gmt']\n",
      "['Adamson2016.h5ad', 'GBM.h5ad', 'Microglia_ipsc_only_2022.h5ad', 'NormanWeissman2019_filtered.h5ad', 'ShifrutMarson2018.h5ad', 'TianKampmann2019_day7neuron.h5ad', 'covid19.h5ad', 'covid_pbmc_ifn_test.h5ad', 'covid_pbmc_ifn_train.h5ad', 'covid_pbmc_ifn_train_test.h5ad', 'pbmc3k.h5ad', 'pbmc_IFN.h5ad', 'pbmc_IFN_1.h5ad', 'pbmc_IFN_filtered.h5ad', 'pbmc_IFN_filtered_1.h5ad', 'resilience.h5ad', 'resilience_ips.h5ad']\n"
     ]
    }
   ],
   "source": [
    "ppi_file_list=os.listdir('/home/iGTP/ppi/')\n",
    "ppi_file_list=[i for i in ppi_file_list if'.ipynb_checkpoints' not in i]\n",
    "ppi_file_list.sort()\n",
    "print(ppi_file_list)\n",
    "tp_file_list=os.listdir('/home/iGTP/TP/')\n",
    "tp_file_list=[i for i in tp_file_list if'.ipynb_checkpoints' not in i]\n",
    "tp_file_list=[i for i in tp_file_list if 'brain' in i or 'GO' in i]\n",
    "tp_file_list.sort()\n",
    "print(tp_file_list)\n",
    "data_file_list=os.listdir('/home/iGTP/iGTP_data')\n",
    "data_file_list=[i for i in data_file_list if'._' not in i]\n",
    "data_file_list=[i for i in data_file_list if'.h5ad' in i]\n",
    "data_file_list.sort()\n",
    "print(data_file_list)"
   ]
  },
  {
   "cell_type": "code",
   "execution_count": 3,
   "id": "94cfcd67",
   "metadata": {},
   "outputs": [
    {
     "data": {
      "text/plain": [
       "'covid_pbmc_ifn_train_test.h5ad'"
      ]
     },
     "execution_count": 3,
     "metadata": {},
     "output_type": "execute_result"
    }
   ],
   "source": [
    "data_file_list[9]"
   ]
  },
  {
   "cell_type": "code",
   "execution_count": 4,
   "id": "9a046cea",
   "metadata": {},
   "outputs": [],
   "source": [
    "args={}\n",
    "args['tp_overlap_fraction']=0.1\n",
    "args['encoder_layer_list']=[1500]\n",
    "args['beta']=0.00005\n",
    "args['encoder_normal']='batch'\n",
    "args['init_type']='pos_uniform'\n",
    "args['recon_loss']='mse'\n",
    "args['drop_out']=0.2\n",
    "args['eps']=0.001\n",
    "args['cv_fold']=5\n",
    "args['learning_rate']=0.001\n",
    "args['learning_rate_weight_decay']=0.000054\n",
    "args['n_epochs']=500\n",
    "args['train_patience']=10\n",
    "args['test_patience']=10\n",
    "args['data_num_workers']=1\n",
    "args['save_fold']=True\n",
    "args['save_best']=True\n",
    "args['anneal_start']=None\n",
    "args['anneal_time']=None\n",
    "args['sc_data_path']='/home/iGTP/iGTP_data/'+data_file_list[9]\n",
    "args['tp_file_path']='/home/iGTP/TP/'+tp_file_list[0]\n",
    "args['ppi_file_path']='/home/iGTP/ppi/'+ppi_file_list[1]\n",
    "args['model_dir']='./save_model/'+data_file_list[9].replace('.h5ad','')+'/'\n",
    "args['vb_nu']=15000\n",
    "args['model_prefix']=tp_file_list[0].replace('.gmt','')+'_'+ppi_file_list[1].replace('.txt','')+args['recon_loss']+'_'+args['init_type']+'_'+str(args['vb_nu'])+'batch_inter'\n",
    "args['batch_size']=8000\n",
    "args['drop_last_batch']=False\n",
    "args['device_nu']=1\n",
    "args['using_gpu']=True\n",
    "args['using_parallel']=True\n",
    "args['z_sample']=1"
   ]
  },
  {
   "cell_type": "code",
   "execution_count": 5,
   "id": "c4e8a39f",
   "metadata": {},
   "outputs": [
    {
     "name": "stderr",
     "output_type": "stream",
     "text": [
      "/usr/local/lib/python3.10/dist-packages/scanpy/preprocessing/_normalization.py:206: UserWarning: Received a view of an AnnData. Making a copy.\n",
      "  view_to_actual(adata)\n"
     ]
    },
    {
     "name": "stdout",
     "output_type": "stream",
     "text": [
      "(761304, 21555)\n",
      "(761304, 21555)\n"
     ]
    }
   ],
   "source": [
    "adata = sc.read(args['sc_data_path'])\n",
    "#adata=adata[adata.obs.dataset!='Test']\n",
    "sc.pp.filter_cells(adata, min_genes=200)\n",
    "sc.pp.filter_genes(adata, min_cells=3)\n",
    "adata.var['mt'] = adata.var_names.str.startswith('MT-') \n",
    "sc.pp.calculate_qc_metrics(adata, qc_vars=['mt'], percent_top=None, log1p=False, inplace=True)\n",
    "adata = adata[adata.obs.n_genes_by_counts < 10000, :]\n",
    "adata = adata[adata.obs.pct_counts_mt < 20, :]\n",
    "adata = adata[adata.obs.total_counts < 50000, :]\n",
    "sc.pp.normalize_total(adata, target_sum=1e5)\n",
    "sc.pp.log1p(adata)\n",
    "#sc.pp.highly_variable_genes(adata, n_top_genes=args['vb_nu'])\n",
    "print(adata.X.shape)\n",
    "#adata.raw = adata\n",
    "#adata = adata[:, adata.var.highly_variable]\n",
    "print(adata.X.shape)"
   ]
  },
  {
   "cell_type": "code",
   "execution_count": 6,
   "id": "25eb1995",
   "metadata": {},
   "outputs": [],
   "source": [
    "adata.raw = adata\n",
    "#adata = adata[:, adata.var.highly_variable]"
   ]
  },
  {
   "cell_type": "code",
   "execution_count": 7,
   "id": "85383e86",
   "metadata": {},
   "outputs": [
    {
     "name": "stdout",
     "output_type": "stream",
     "text": [
      "(761304, 21555)\n"
     ]
    }
   ],
   "source": [
    "adata_train=adata[adata.obs.dataset!='Test'].copy()\n",
    "adata_test=adata[adata.obs.dataset=='Test'].copy()\n",
    "print(adata.X.shape)"
   ]
  },
  {
   "cell_type": "code",
   "execution_count": null,
   "id": "88607730",
   "metadata": {},
   "outputs": [
    {
     "name": "stdout",
     "output_type": "stream",
     "text": [
      "13634\n",
      "Number of Gene 13000 in PPI\n",
      "Create TP->Gene mask\n",
      "Number of TP 1303, and Gene 13634\n",
      "Create Gene->Gene mask\n",
      "Number of Gene 13634, and Gene 13634\n",
      "The number of gene in TP Yes was 13634.00 \n",
      "13634\n",
      "Number of Gene 13000 in PPI\n",
      "Create TP->Gene mask\n",
      "Number of TP 1303, and Gene 13634\n",
      "Create Gene->Gene mask\n",
      "Number of Gene 13634, and Gene 13634\n",
      "The number of gene in TP Yes was 13634.00 \n",
      "Directory already exists.\n",
      "Model(s) will be saved at ./save_model/covid_pbmc_ifn_train_test/ using GO_merged_PC_homo_v11mse_pos_uniform_15000batch_inter as prefix\n"
     ]
    },
    {
     "name": "stderr",
     "output_type": "stream",
     "text": [
      "/usr/local/lib/python3.10/dist-packages/torch/nn/modules/lazy.py:181: UserWarning: Lazy modules are a new feature under heavy development so changes to the API or functionality can happen at any moment.\n",
      "  warnings.warn('Lazy modules are a new feature under heavy development '\n"
     ]
    },
    {
     "name": "stdout",
     "output_type": "stream",
     "text": [
      "Training fold 0\n",
      "[Epoch 1] | loss: 1958682.020 | test_loss: 11085.631 |\n",
      "[Epoch 2] | loss: 11401.543 | test_loss: 10755.316 |\n",
      "[Epoch 3] | loss: 11302.775 | test_loss: 10734.275 |\n",
      "[Epoch 4] | loss: 11249.574 | test_loss: 10647.429 |\n",
      "[Epoch 5] | loss: 11197.260 | test_loss: 10630.798 |\n",
      "[Epoch 6] | loss: 11160.261 | test_loss: 10626.980 |\n",
      "[Epoch 7] | loss: 11140.116 | test_loss: 10582.740 |\n",
      "[Epoch 8] | loss: 11118.661 | test_loss: 10556.918 |\n",
      "[Epoch 9] | loss: 11099.512 | test_loss: 10543.530 |\n",
      "[Epoch 10] | loss: 11081.680 | test_loss: 10504.743 |\n",
      "[Epoch 11] | loss: 11064.121 | test_loss: 10508.062 |\n",
      "[Epoch 12] | loss: 11054.873 | test_loss: 10464.135 |\n",
      "[Epoch 13] | loss: 11041.996 | test_loss: 10500.806 |\n",
      "[Epoch 14] | loss: 11033.132 | test_loss: 10489.459 |\n",
      "[Epoch 15] | loss: 11024.122 | test_loss: 10425.651 |\n",
      "[Epoch 16] | loss: 11017.415 | test_loss: 10434.520 |\n",
      "[Epoch 17] | loss: 11006.791 | test_loss: 10416.946 |\n",
      "[Epoch 18] | loss: 10998.824 | test_loss: 10411.961 |\n",
      "[Epoch 19] | loss: 10992.579 | test_loss: 10420.475 |\n",
      "[Epoch 20] | loss: 10983.017 | test_loss: 10391.828 |\n",
      "[Epoch 21] | loss: 10974.218 | test_loss: 10393.381 |\n",
      "[Epoch 22] | loss: 10967.526 | test_loss: 10385.860 |\n",
      "[Epoch 23] | loss: 10963.163 | test_loss: 10381.613 |\n",
      "[Epoch 24] | loss: 10951.690 | test_loss: 10361.933 |\n",
      "[Epoch 25] | loss: 10943.410 | test_loss: 10360.673 |\n",
      "[Epoch 26] | loss: 10938.711 | test_loss: 10355.187 |\n",
      "[Epoch 27] | loss: 10929.540 | test_loss: 10357.321 |\n",
      "[Epoch 28] | loss: 10919.310 | test_loss: 10319.873 |\n",
      "[Epoch 29] | loss: 10913.052 | test_loss: 10322.649 |\n",
      "[Epoch 30] | loss: 10907.982 | test_loss: 10336.768 |\n",
      "[Epoch 31] | loss: 10900.452 | test_loss: 10308.296 |\n",
      "[Epoch 32] | loss: 10890.869 | test_loss: 10296.561 |\n",
      "[Epoch 33] | loss: 10883.505 | test_loss: 10278.753 |\n",
      "[Epoch 34] | loss: 10874.711 | test_loss: 10279.790 |\n",
      "[Epoch 35] | loss: 10866.642 | test_loss: 10266.482 |\n",
      "[Epoch 36] | loss: 10856.598 | test_loss: 10278.169 |\n",
      "[Epoch 37] | loss: 10853.480 | test_loss: 10263.683 |\n",
      "[Epoch 38] | loss: 10842.445 | test_loss: 10242.519 |\n",
      "[Epoch 39] | loss: 10834.701 | test_loss: 10228.821 |\n",
      "[Epoch 40] | loss: 10828.393 | test_loss: 10244.954 |\n",
      "[Epoch 41] | loss: 10817.881 | test_loss: 10218.409 |\n",
      "[Epoch 42] | loss: 10808.531 | test_loss: 10205.646 |\n",
      "[Epoch 43] | loss: 10800.060 | test_loss: 10217.173 |\n",
      "[Epoch 44] | loss: 10795.069 | test_loss: 10187.558 |\n",
      "[Epoch 45] | loss: 10783.779 | test_loss: 10178.546 |\n",
      "[Epoch 46] | loss: 10775.896 | test_loss: 10167.219 |\n",
      "[Epoch 47] | loss: 10766.791 | test_loss: 10152.273 |\n",
      "[Epoch 48] | loss: 10755.316 | test_loss: 10156.585 |\n",
      "[Epoch 49] | loss: 10747.603 | test_loss: 10146.005 |\n",
      "[Epoch 50] | loss: 10738.788 | test_loss: 10119.150 |\n",
      "[Epoch 51] | loss: 10717.473 | test_loss: 10095.340 |\n",
      "[Epoch 52] | loss: 10707.484 | test_loss: 10089.761 |\n",
      "[Epoch 53] | loss: 10696.693 | test_loss: 10075.181 |\n",
      "[Epoch 54] | loss: 10685.414 | test_loss: 10067.794 |\n",
      "[Epoch 55] | loss: 10674.641 | test_loss: 10055.433 |\n",
      "[Epoch 56] | loss: 10664.045 | test_loss: 10037.806 |\n",
      "[Epoch 57] | loss: 10652.798 | test_loss: 10025.308 |\n",
      "[Epoch 58] | loss: 10641.700 | test_loss: 10007.961 |\n",
      "[Epoch 59] | loss: 10631.887 | test_loss: 9999.915 |\n",
      "[Epoch 60] | loss: 10622.266 | test_loss: 9988.739 |\n",
      "[Epoch 61] | loss: 10611.975 | test_loss: 9976.344 |\n",
      "[Epoch 62] | loss: 10601.197 | test_loss: 9960.999 |\n",
      "[Epoch 63] | loss: 10592.579 | test_loss: 9956.347 |\n",
      "[Epoch 64] | loss: 10583.408 | test_loss: 9945.439 |\n",
      "[Epoch 65] | loss: 10574.129 | test_loss: 9931.341 |\n",
      "[Epoch 66] | loss: 10565.072 | test_loss: 9922.313 |\n",
      "[Epoch 67] | loss: 10556.299 | test_loss: 9913.228 |\n",
      "[Epoch 68] | loss: 10547.485 | test_loss: 9899.959 |\n",
      "[Epoch 69] | loss: 10538.594 | test_loss: 9891.157 |\n",
      "[Epoch 70] | loss: 10529.841 | test_loss: 9876.969 |\n",
      "[Epoch 71] | loss: 10520.939 | test_loss: 9869.283 |\n",
      "[Epoch 72] | loss: 10511.300 | test_loss: 9859.824 |\n",
      "[Epoch 73] | loss: 10502.530 | test_loss: 9852.787 |\n",
      "[Epoch 74] | loss: 10493.795 | test_loss: 9848.428 |\n",
      "[Epoch 75] | loss: 10485.456 | test_loss: 9831.656 |\n",
      "[Epoch 76] | loss: 10477.502 | test_loss: 9820.859 |\n",
      "[Epoch 77] | loss: 10469.239 | test_loss: 9813.567 |\n",
      "[Epoch 78] | loss: 10460.545 | test_loss: 9806.391 |\n",
      "[Epoch 79] | loss: 10452.831 | test_loss: 9790.154 |\n",
      "[Epoch 80] | loss: 10443.942 | test_loss: 9783.541 |\n",
      "[Epoch 81] | loss: 10435.041 | test_loss: 9770.844 |\n",
      "[Epoch 82] | loss: 10425.918 | test_loss: 9760.600 |\n",
      "[Epoch 83] | loss: 10415.916 | test_loss: 9743.765 |\n",
      "[Epoch 84] | loss: 10407.071 | test_loss: 9739.023 |\n",
      "[Epoch 85] | loss: 10398.554 | test_loss: 9729.631 |\n",
      "[Epoch 86] | loss: 10391.085 | test_loss: 9717.356 |\n",
      "[Epoch 87] | loss: 10381.713 | test_loss: 9707.455 |\n",
      "[Epoch 88] | loss: 10372.474 | test_loss: 9696.121 |\n",
      "[Epoch 89] | loss: 10363.549 | test_loss: 9684.110 |\n",
      "[Epoch 90] | loss: 10355.101 | test_loss: 9675.574 |\n",
      "[Epoch 91] | loss: 10346.049 | test_loss: 9670.259 |\n",
      "[Epoch 92] | loss: 10337.285 | test_loss: 9660.260 |\n",
      "[Epoch 93] | loss: 10328.682 | test_loss: 9645.551 |\n",
      "[Epoch 94] | loss: 10320.045 | test_loss: 9633.406 |\n",
      "[Epoch 95] | loss: 10312.983 | test_loss: 9629.269 |\n",
      "[Epoch 96] | loss: 10305.502 | test_loss: 9619.680 |\n",
      "[Epoch 97] | loss: 10297.007 | test_loss: 9613.669 |\n",
      "[Epoch 98] | loss: 10289.909 | test_loss: 9598.963 |\n",
      "[Epoch 99] | loss: 10282.241 | test_loss: 9595.504 |\n",
      "[Epoch 100] | loss: 10274.117 | test_loss: 9585.628 |\n",
      "[Epoch 101] | loss: 10259.754 | test_loss: 9571.720 |\n",
      "[Epoch 102] | loss: 10252.706 | test_loss: 9561.646 |\n",
      "[Epoch 103] | loss: 10246.933 | test_loss: 9555.194 |\n",
      "[Epoch 104] | loss: 10241.589 | test_loss: 9548.002 |\n",
      "[Epoch 105] | loss: 10236.007 | test_loss: 9543.298 |\n",
      "[Epoch 106] | loss: 10230.530 | test_loss: 9535.003 |\n",
      "[Epoch 107] | loss: 10225.191 | test_loss: 9529.801 |\n",
      "[Epoch 108] | loss: 10219.688 | test_loss: 9520.874 |\n",
      "[Epoch 109] | loss: 10214.286 | test_loss: 9517.142 |\n",
      "[Epoch 110] | loss: 10209.009 | test_loss: 9510.518 |\n",
      "[Epoch 111] | loss: 10204.014 | test_loss: 9506.130 |\n",
      "[Epoch 112] | loss: 10198.868 | test_loss: 9499.333 |\n",
      "[Epoch 113] | loss: 10192.851 | test_loss: 9490.662 |\n",
      "[Epoch 114] | loss: 10187.303 | test_loss: 9483.558 |\n",
      "[Epoch 115] | loss: 10181.883 | test_loss: 9480.687 |\n",
      "[Epoch 116] | loss: 10176.211 | test_loss: 9473.984 |\n",
      "[Epoch 117] | loss: 10170.637 | test_loss: 9463.880 |\n",
      "[Epoch 118] | loss: 10165.490 | test_loss: 9459.744 |\n",
      "[Epoch 119] | loss: 10159.710 | test_loss: 9454.219 |\n",
      "[Epoch 120] | loss: 10154.554 | test_loss: 9445.201 |\n",
      "[Epoch 121] | loss: 10149.247 | test_loss: 9442.715 |\n",
      "[Epoch 122] | loss: 10144.877 | test_loss: 9439.349 |\n",
      "[Epoch 123] | loss: 10139.265 | test_loss: 9433.454 |\n",
      "[Epoch 124] | loss: 10134.425 | test_loss: 9423.336 |\n",
      "[Epoch 125] | loss: 10129.182 | test_loss: 9420.066 |\n",
      "[Epoch 126] | loss: 10124.110 | test_loss: 9410.720 |\n",
      "[Epoch 127] | loss: 10119.214 | test_loss: 9402.701 |\n",
      "[Epoch 128] | loss: 10113.692 | test_loss: 9399.727 |\n",
      "[Epoch 129] | loss: 10109.000 | test_loss: 9391.745 |\n",
      "[Epoch 130] | loss: 10103.315 | test_loss: 9389.590 |\n",
      "[Epoch 131] | loss: 10098.549 | test_loss: 9381.279 |\n",
      "[Epoch 132] | loss: 10093.853 | test_loss: 9373.822 |\n",
      "[Epoch 133] | loss: 10088.093 | test_loss: 9367.455 |\n",
      "[Epoch 134] | loss: 10082.826 | test_loss: 9361.141 |\n",
      "[Epoch 135] | loss: 10077.841 | test_loss: 9355.814 |\n",
      "[Epoch 136] | loss: 10072.653 | test_loss: 9348.802 |\n",
      "[Epoch 137] | loss: 10068.761 | test_loss: 9344.901 |\n",
      "[Epoch 138] | loss: 10063.417 | test_loss: 9338.769 |\n",
      "[Epoch 139] | loss: 10058.605 | test_loss: 9334.528 |\n",
      "[Epoch 140] | loss: 10053.924 | test_loss: 9325.616 |\n",
      "[Epoch 141] | loss: 10048.833 | test_loss: 9321.408 |\n",
      "[Epoch 142] | loss: 10044.712 | test_loss: 9320.018 |\n",
      "[Epoch 143] | loss: 10039.656 | test_loss: 9311.166 |\n",
      "[Epoch 144] | loss: 10034.933 | test_loss: 9306.153 |\n",
      "[Epoch 145] | loss: 10030.067 | test_loss: 9304.041 |\n",
      "[Epoch 146] | loss: 10025.430 | test_loss: 9292.175 |\n",
      "[Epoch 147] | loss: 10021.392 | test_loss: 9291.016 |\n",
      "[Epoch 148] | loss: 10016.496 | test_loss: 9286.327 |\n",
      "[Epoch 149] | loss: 10012.101 | test_loss: 9281.230 |\n",
      "[Epoch 150] | loss: 10007.348 | test_loss: 9272.262 |\n",
      "[Epoch 151] | loss: 9998.454 | test_loss: 9264.440 |\n",
      "[Epoch 152] | loss: 9994.001 | test_loss: 9260.836 |\n",
      "[Epoch 153] | loss: 9990.770 | test_loss: 9255.702 |\n"
     ]
    },
    {
     "name": "stdout",
     "output_type": "stream",
     "text": [
      "[Epoch 154] | loss: 9987.822 | test_loss: 9252.729 |\n",
      "[Epoch 155] | loss: 9985.267 | test_loss: 9250.324 |\n",
      "[Epoch 156] | loss: 9982.688 | test_loss: 9249.112 |\n",
      "[Epoch 157] | loss: 9980.026 | test_loss: 9241.270 |\n",
      "[Epoch 158] | loss: 9977.525 | test_loss: 9238.505 |\n",
      "[Epoch 159] | loss: 9974.801 | test_loss: 9236.348 |\n",
      "[Epoch 160] | loss: 9971.910 | test_loss: 9232.939 |\n",
      "[Epoch 161] | loss: 9969.543 | test_loss: 9230.462 |\n"
     ]
    }
   ],
   "source": [
    "data_x_s_train,mask_list_dict,args,seq_gene_df,seq_gene_df_su, TP_df, ppi_df_1,data_train=pre_process(args,adata_train)\n",
    "data_x_s_test,_,_,_,_, _, _,data_test=pre_process(args,adata_test)\n",
    "all_data_df={}\n",
    "all_data_df['data_x_s_train']=data_x_s_train\n",
    "all_data_df['data_x_s_test']=data_x_s_test\n",
    "all_data_df['mask_dict']=mask_list_dict\n",
    "all_data_df['args']=args\n",
    "all_data_df['seq_gene_df']=seq_gene_df\n",
    "all_data_df['seq_gene_df_su']=seq_gene_df_su\n",
    "all_data_df['TP_df']=TP_df\n",
    "all_data_df['ppi_df_1']=ppi_df_1\n",
    "all_data_df['data_train']=data_train\n",
    "all_data_df['data_test']=data_test\n",
    "args['model_data_dir']=args['model_dir']+'processed_data/'\n",
    "if not os.path.exists(args['model_data_dir']):\n",
    "            # Create the directory if it doesn't exist\n",
    "    os.makedirs(args['model_data_dir'],exist_ok=True)\n",
    "    print(\"Directory created successfully.\")\n",
    "else:\n",
    "    print(\"Directory already exists.\")\n",
    "model_data_file=args['model_data_dir']+args['model_prefix']+'.pkl'\n",
    "with open(model_data_file, 'wb') as file:\n",
    "    pickle.dump(all_data_df, file)\n",
    "kfold=KFoldTorch(args) \n",
    "kfold.train_kfold(iGTP,mask_list_dict,data_x_s_train)"
   ]
  },
  {
   "cell_type": "code",
   "execution_count": null,
   "id": "9b1e1867",
   "metadata": {},
   "outputs": [],
   "source": [
    "kfold=KFoldTorch(args) \n",
    "kfold.train_kfold(iGTP,mask_list_dict,data_x_s_train)"
   ]
  },
  {
   "cell_type": "code",
   "execution_count": null,
   "id": "dcd4fa09",
   "metadata": {},
   "outputs": [],
   "source": [
    " if torch.cuda.is_available() and self.args['using_gpu'] is True:\n",
    "            \n",
    "            # Get the number of available GPUs\n",
    "            num_gpus = torch.cuda.device_count()\n",
    "\n",
    "            # Choose the GPU you want to use (e.g., GPU 0)\n",
    "            gpu_number = self.args['device_nu']\n",
    "\n",
    "            # Set the device to the selected GPU\n",
    "            if self.args['using_parallel'] is True:\n",
    "                self.args['device']=[i for i in range(gpu_number)]\n",
    "            else:\n",
    "                self.args['device'] = torch.device(f\"cuda:{gpu_number}\")\n",
    "\n",
    "        # Move the model to the selected GPU\n",
    "        else:\n",
    "            self.args['device'] = torch.device(\"cpu\")\n",
    "        \n",
    "        self.model = MyModel(self.args,mask_list_dict)"
   ]
  },
  {
   "cell_type": "code",
   "execution_count": null,
   "id": "e883dc01",
   "metadata": {},
   "outputs": [],
   "source": [
    "args['device']=[i for i in range(3)]"
   ]
  },
  {
   "cell_type": "code",
   "execution_count": null,
   "id": "bfd733f4",
   "metadata": {},
   "outputs": [],
   "source": [
    "model = iGTP(args,mask_list_dict)"
   ]
  },
  {
   "cell_type": "code",
   "execution_count": null,
   "id": "c195f187",
   "metadata": {},
   "outputs": [],
   "source": [
    "import torch.nn as nn"
   ]
  },
  {
   "cell_type": "code",
   "execution_count": null,
   "id": "46bcc3a1",
   "metadata": {},
   "outputs": [],
   "source": [
    "#model = nn.DataParallel(model, device_ids=args['device'])\n",
    "            #self.model = self.model.to(f'cuda:{self.args[\"device\"][0]}')\n",
    "            \n",
    "dummy_input = torch.randn(2, 9153)#.to(args['device'][0])\n",
    "model(dummy_input)  \n",
    "model = nn.DataParallel(model, device_ids=args['device'])\n",
    "model.to(args['device'][0])\n",
    "optimizer = optim.Adam(model.parameters(), lr=args['learning_rate'], weight_decay=args['learning_rate_weight_decay'])\n",
    "    "
   ]
  },
  {
   "cell_type": "code",
   "execution_count": null,
   "id": "f631399a",
   "metadata": {},
   "outputs": [],
   "source": [
    "train_loader = torch.utils.data.DataLoader(data_x_s_train, batch_size=9000, shuffle=True,\\\n",
    "                                                       drop_last=args['drop_last_batch'], num_workers=args['data_num_workers'])\n",
    "            "
   ]
  },
  {
   "cell_type": "code",
   "execution_count": null,
   "id": "afc88315",
   "metadata": {},
   "outputs": [],
   "source": [
    "x_train=next(iter(train_loader))"
   ]
  },
  {
   "cell_type": "code",
   "execution_count": null,
   "id": "7c702dc9",
   "metadata": {},
   "outputs": [],
   "source": [
    "x_train.shape"
   ]
  },
  {
   "cell_type": "code",
   "execution_count": null,
   "id": "c9646351",
   "metadata": {},
   "outputs": [],
   "source": [
    "model"
   ]
  },
  {
   "cell_type": "code",
   "execution_count": null,
   "id": "0593a9bf",
   "metadata": {},
   "outputs": [],
   "source": [
    "x_train.float().shape"
   ]
  },
  {
   "cell_type": "code",
   "execution_count": null,
   "id": "f4b26faf",
   "metadata": {},
   "outputs": [],
   "source": [
    "model(x_train.float())"
   ]
  },
  {
   "cell_type": "code",
   "execution_count": null,
   "id": "5fa174aa",
   "metadata": {},
   "outputs": [],
   "source": [
    "{c:{} for c in range(args['cv_fold'])}"
   ]
  },
  {
   "cell_type": "code",
   "execution_count": null,
   "id": "8784a57c",
   "metadata": {},
   "outputs": [],
   "source": [
    "args"
   ]
  },
  {
   "cell_type": "code",
   "execution_count": null,
   "id": "e2194d06",
   "metadata": {},
   "outputs": [],
   "source": [
    "kfold.args"
   ]
  },
  {
   "cell_type": "code",
   "execution_count": null,
   "id": "c208ef2c",
   "metadata": {},
   "outputs": [],
   "source": [
    "[i for i in range(3)]"
   ]
  },
  {
   "cell_type": "code",
   "execution_count": null,
   "id": "33377c3b",
   "metadata": {},
   "outputs": [],
   "source": []
  }
 ],
 "metadata": {
  "kernelspec": {
   "display_name": "Python 3 (ipykernel)",
   "language": "python",
   "name": "python3"
  },
  "language_info": {
   "codemirror_mode": {
    "name": "ipython",
    "version": 3
   },
   "file_extension": ".py",
   "mimetype": "text/x-python",
   "name": "python",
   "nbconvert_exporter": "python",
   "pygments_lexer": "ipython3",
   "version": "3.10.12"
  }
 },
 "nbformat": 4,
 "nbformat_minor": 5
}
