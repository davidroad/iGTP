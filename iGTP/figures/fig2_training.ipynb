{
 "cells": [
  {
   "cell_type": "code",
   "execution_count": 1,
   "id": "cb22c18d",
   "metadata": {},
   "outputs": [
    {
     "name": "stderr",
     "output_type": "stream",
     "text": [
      "Global seed set to 0\n",
      "/usr/local/lib/python3.8/dist-packages/pytorch_lightning/utilities/warnings.py:53: LightningDeprecationWarning: pytorch_lightning.utilities.warnings.rank_zero_deprecation has been deprecated in v1.6 and will be removed in v1.8. Use the equivalent function from the pytorch_lightning.utilities.rank_zero module instead.\n",
      "  new_rank_zero_deprecation(\n",
      "/usr/local/lib/python3.8/dist-packages/pytorch_lightning/utilities/warnings.py:58: LightningDeprecationWarning: The `pytorch_lightning.loggers.base.rank_zero_experiment` is deprecated in v1.7 and will be removed in v1.9. Please use `pytorch_lightning.loggers.logger.rank_zero_experiment` instead.\n",
      "  return new_rank_zero_deprecation(*args, **kwargs)\n"
     ]
    }
   ],
   "source": [
    "from iGTP_Linear import *\n",
    "from iGTP_model_modified_scvi_sample_final_update import *\n",
    "from preprocess import *\n",
    "from learning_utilies import *\n",
    "import os \n",
    "import scanpy as sc"
   ]
  },
  {
   "cell_type": "code",
   "execution_count": 2,
   "id": "cf5ec0e2",
   "metadata": {},
   "outputs": [
    {
     "name": "stdout",
     "output_type": "stream",
     "text": [
      "['PC.txt', 'PC_homo_v11.txt', 'PPI_compiled.txt']\n",
      "['GO_merged.gmt', 'brain_cell_type_function_AD_pathways.gmt']\n",
      "['Adamson2016.h5ad', 'GBM.h5ad', 'Microglia_ipsc_only_2022.h5ad', 'NormanWeissman2019_filtered.h5ad', 'ShifrutMarson2018.h5ad', 'TianKampmann2019_day7neuron.h5ad', 'covid19.h5ad', 'covid_pbmc_ifn_test.h5ad', 'covid_pbmc_ifn_train.h5ad', 'covid_pbmc_ifn_train_test.h5ad', 'pbmc3k.h5ad', 'pbmc_IFN.h5ad', 'pbmc_IFN_1.h5ad', 'pbmc_IFN_filtered.h5ad', 'pbmc_IFN_filtered_1.h5ad', 'resilience.h5ad', 'resilience_ips.h5ad']\n"
     ]
    }
   ],
   "source": [
    "ppi_file_list=os.listdir('/home/iGTP/ppi/')\n",
    "ppi_file_list=[i for i in ppi_file_list if'.ipynb_checkpoints' not in i]\n",
    "ppi_file_list.sort()\n",
    "print(ppi_file_list)\n",
    "tp_file_list=os.listdir('/home/iGTP/TP/')\n",
    "tp_file_list=[i for i in tp_file_list if'.ipynb_checkpoints' not in i]\n",
    "tp_file_list=[i for i in tp_file_list if 'brain' in i or 'GO' in i]\n",
    "tp_file_list.sort()\n",
    "print(tp_file_list)\n",
    "data_file_list=os.listdir('/home/iGTP/iGTP_data')\n",
    "data_file_list=[i for i in data_file_list if'._' not in i]\n",
    "data_file_list=[i for i in data_file_list if'.h5ad' in i]\n",
    "data_file_list.sort()\n",
    "print(data_file_list)"
   ]
  },
  {
   "cell_type": "code",
   "execution_count": 3,
   "id": "9ff32478",
   "metadata": {},
   "outputs": [
    {
     "data": {
      "text/plain": [
       "'pbmc_IFN_filtered.h5ad'"
      ]
     },
     "execution_count": 3,
     "metadata": {},
     "output_type": "execute_result"
    }
   ],
   "source": [
    "data_file_list[13]"
   ]
  },
  {
   "cell_type": "code",
   "execution_count": 4,
   "id": "72dfa41a",
   "metadata": {},
   "outputs": [
    {
     "name": "stdout",
     "output_type": "stream",
     "text": [
      "(13672, 35635)\n"
     ]
    }
   ],
   "source": [
    "args={}\n",
    "args['tp_overlap_fraction']=0.1\n",
    "args['encoder_layer_list']=[1500]\n",
    "args['beta']=0.00005\n",
    "args['encoder_normal']='batch'\n",
    "args['init_type']='pos_uniform'\n",
    "args['recon_loss']='mse'\n",
    "args['drop_out']=0.2\n",
    "args['eps']=0.001\n",
    "args['cv_fold']=5\n",
    "args['learning_rate']=0.001\n",
    "args['learning_rate_weight_decay']=0.000054\n",
    "args['n_epochs']=500\n",
    "args['train_patience']=10\n",
    "args['test_patience']=10\n",
    "args['data_num_workers']=1\n",
    "args['save_fold']=True\n",
    "args['save_best']=True\n",
    "args['anneal_start']=None\n",
    "args['anneal_time']=None\n",
    "args['sc_data_path']='/home/iGTP/iGTP_data/'+data_file_list[13]\n",
    "args['tp_file_path']='/home/iGTP/TP/'+tp_file_list[0]\n",
    "args['ppi_file_path']='/home/iGTP/ppi/'+ppi_file_list[1]\n",
    "args['model_dir']='./save_model/'+data_file_list[13].replace('.h5ad','')+'/'\n",
    "args['vb_nu']=15000\n",
    "args['model_prefix']=tp_file_list[0].replace('.gmt','')+'_'+ppi_file_list[1].replace('.txt','')+args['recon_loss']+'_'+args['init_type']+'_'+str(args['vb_nu'])+'batch'\n",
    "args['batch_size']=4000\n",
    "args['drop_last_batch']=False\n",
    "args['device_nu']=1\n",
    "args['using_gpu']=True\n",
    "args['z_sample']=1\n",
    "adata = sc.read(args['sc_data_path'])\n",
    "print(adata.X.shape)"
   ]
  },
  {
   "cell_type": "code",
   "execution_count": 5,
   "id": "a00780a5",
   "metadata": {},
   "outputs": [
    {
     "name": "stderr",
     "output_type": "stream",
     "text": [
      "/usr/local/lib/python3.8/dist-packages/scanpy/preprocessing/_normalization.py:169: UserWarning: Received a view of an AnnData. Making a copy.\n",
      "  view_to_actual(adata)\n"
     ]
    },
    {
     "name": "stdout",
     "output_type": "stream",
     "text": [
      "(13672, 14949)\n",
      "(13672, 14949)\n"
     ]
    }
   ],
   "source": [
    "sc.pp.filter_cells(adata, min_genes=200)\n",
    "sc.pp.filter_genes(adata, min_cells=3)\n",
    "adata.var['mt'] = adata.var_names.str.startswith('MT-') \n",
    "sc.pp.calculate_qc_metrics(adata, qc_vars=['mt'], percent_top=None, log1p=False, inplace=True)\n",
    "adata = adata[adata.obs.n_genes_by_counts < 10000, :]\n",
    "adata = adata[adata.obs.pct_counts_mt < 20, :]\n",
    "adata = adata[adata.obs.total_counts < 50000, :]\n",
    "sc.pp.normalize_total(adata, target_sum=1e5)\n",
    "sc.pp.log1p(adata)\n",
    "#sc.pp.highly_variable_genes(adata, n_top_genes=args['vb_nu'])\n",
    "print(adata.X.shape)\n",
    "#adata.raw = adata\n",
    "#adata = adata[:, adata.var.highly_variable]\n",
    "print(adata.X.shape)"
   ]
  },
  {
   "cell_type": "code",
   "execution_count": 6,
   "id": "8c2fb147",
   "metadata": {},
   "outputs": [
    {
     "data": {
      "text/plain": [
       "<13672x35635 sparse matrix of type '<class 'numpy.float64'>'\n",
       "\twith 9530688 stored elements in Compressed Sparse Row format>"
      ]
     },
     "execution_count": 6,
     "metadata": {},
     "output_type": "execute_result"
    }
   ],
   "source": [
    "adata.raw.X"
   ]
  },
  {
   "cell_type": "code",
   "execution_count": 7,
   "id": "c228e4c6",
   "metadata": {},
   "outputs": [
    {
     "name": "stdout",
     "output_type": "stream",
     "text": [
      "Directory already exists.\n",
      "./save_model/pbmc_IFN_filtered/\n"
     ]
    }
   ],
   "source": [
    "if not os.path.exists(args['model_dir']):\n",
    "            # Create the directory if it doesn't exist\n",
    "    os.mkdir(args['model_dir'])\n",
    "    print(\"Directory created successfully.\")\n",
    "else:\n",
    "    print(\"Directory already exists.\")\n",
    "    print(args['model_dir'])"
   ]
  },
  {
   "cell_type": "code",
   "execution_count": 8,
   "id": "9cf7acb2",
   "metadata": {},
   "outputs": [
    {
     "name": "stdout",
     "output_type": "stream",
     "text": [
      "10370\n",
      "Number of Gene 10119 in PPI\n",
      "Create TP->Gene mask\n",
      "Number of TP 1296, and Gene 10370\n",
      "Create Gene->Gene mask\n",
      "Number of Gene 10370, and Gene 10370\n",
      "The number of gene in TP Yes was 10370.00 \n"
     ]
    }
   ],
   "source": [
    "data_x_s,mask_list_dict,args,seq_gene_df,seq_gene_df_su, TP_df, ppi_df_1,data=pre_process(args,adata)"
   ]
  },
  {
   "cell_type": "code",
   "execution_count": 9,
   "id": "b1048264",
   "metadata": {},
   "outputs": [
    {
     "name": "stdout",
     "output_type": "stream",
     "text": [
      "Directory already exists.\n"
     ]
    }
   ],
   "source": [
    "all_data_df={}\n",
    "all_data_df['data_x_s']=data_x_s\n",
    "all_data_df['mask_dict']=mask_list_dict\n",
    "all_data_df['args']=args\n",
    "all_data_df['seq_gene_df']=seq_gene_df\n",
    "all_data_df['seq_gene_df_su']=seq_gene_df_su\n",
    "all_data_df['TP_df']=TP_df\n",
    "all_data_df['ppi_df_1']=ppi_df_1\n",
    "all_data_df['data']=data\n",
    "args['model_data_dir']=args['model_dir']+'processed_data/'\n",
    "if not os.path.exists(args['model_data_dir']):\n",
    "            # Create the directory if it doesn't exist\n",
    "    os.mkdir(args['model_data_dir'])\n",
    "    print(\"Directory created successfully.\")\n",
    "else:\n",
    "    print(\"Directory already exists.\")\n",
    "model_data_file=args['model_data_dir']+args['model_prefix']+'.pkl'\n",
    "with open(model_data_file, 'wb') as file:\n",
    "    pickle.dump(all_data_df, file)"
   ]
  },
  {
   "cell_type": "code",
   "execution_count": null,
   "id": "1eec63e4",
   "metadata": {},
   "outputs": [],
   "source": [
    "args"
   ]
  },
  {
   "cell_type": "code",
   "execution_count": null,
   "id": "df3f7733",
   "metadata": {},
   "outputs": [],
   "source": [
    "kfold=KFoldTorch(args) \n",
    "kfold.train_kfold(iGTP,mask_list_dict,data_x_s)"
   ]
  },
  {
   "cell_type": "code",
   "execution_count": null,
   "id": "200a908d",
   "metadata": {},
   "outputs": [],
   "source": []
  }
 ],
 "metadata": {
  "kernelspec": {
   "display_name": "Python 3 (ipykernel)",
   "language": "python",
   "name": "python3"
  },
  "language_info": {
   "codemirror_mode": {
    "name": "ipython",
    "version": 3
   },
   "file_extension": ".py",
   "mimetype": "text/x-python",
   "name": "python",
   "nbconvert_exporter": "python",
   "pygments_lexer": "ipython3",
   "version": "3.10.12"
  }
 },
 "nbformat": 4,
 "nbformat_minor": 5
}
