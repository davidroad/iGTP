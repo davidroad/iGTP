{
 "cells": [
  {
   "cell_type": "code",
   "execution_count": 1,
   "id": "aa7cff66",
   "metadata": {},
   "outputs": [
    {
     "name": "stderr",
     "output_type": "stream",
     "text": [
      "Global seed set to 0\n",
      "/usr/local/lib/python3.8/dist-packages/pytorch_lightning/utilities/warnings.py:53: LightningDeprecationWarning: pytorch_lightning.utilities.warnings.rank_zero_deprecation has been deprecated in v1.6 and will be removed in v1.8. Use the equivalent function from the pytorch_lightning.utilities.rank_zero module instead.\n",
      "  new_rank_zero_deprecation(\n",
      "/usr/local/lib/python3.8/dist-packages/pytorch_lightning/utilities/warnings.py:58: LightningDeprecationWarning: The `pytorch_lightning.loggers.base.rank_zero_experiment` is deprecated in v1.7 and will be removed in v1.9. Please use `pytorch_lightning.loggers.logger.rank_zero_experiment` instead.\n",
      "  return new_rank_zero_deprecation(*args, **kwargs)\n"
     ]
    }
   ],
   "source": [
    "from iGTP_Linear import *\n",
    "from iGTP_model_modified_scvi_sample_final_update import *\n",
    "from preprocess import *\n",
    "from learning_utilies import *\n",
    "import os \n",
    "import scanpy as sc\n",
    "import pickle5 as pickle\n",
    "from sklearn.manifold import TSNE\n",
    "import numpy as np "
   ]
  },
  {
   "cell_type": "code",
   "execution_count": 2,
   "id": "f5e9a531",
   "metadata": {},
   "outputs": [],
   "source": [
    "model_list=os.listdir('./save_model/resilience')\n",
    "model_list=[i for i in model_list if '.ipynb_checkpoints' not in i]\n",
    "model_list=[i for i in model_list if 'mse' in i]\n",
    "model_list=[i for i in model_list if 'brain' in i]\n",
    "model_list=[i for i in model_list if 'batchbest' in i]\n",
    "model_list.sort()"
   ]
  },
  {
   "cell_type": "code",
   "execution_count": 3,
   "id": "0978c16f",
   "metadata": {},
   "outputs": [
    {
     "data": {
      "text/plain": [
       "['brain_cell_type_function_AD_pathways_PC_homo_v11mse_pos_uniform_15000batchbest_fold.pt']"
      ]
     },
     "execution_count": 3,
     "metadata": {},
     "output_type": "execute_result"
    }
   ],
   "source": [
    "model_list"
   ]
  },
  {
   "cell_type": "code",
   "execution_count": 4,
   "id": "a5ecf4a0",
   "metadata": {},
   "outputs": [],
   "source": [
    "file_list=os.listdir('./save_model/resilience/processed_data')\n",
    "file_list=[i for i in file_list if '.ipynb_checkpoints' not in i]\n",
    "file_list=[i for i in file_list if 'brain' in i]\n",
    "file_list=[i for i in file_list if 'mse' in i]\n",
    "file_list=[i for i in file_list if 'batch' in i]\n",
    "file_list.sort()"
   ]
  },
  {
   "cell_type": "code",
   "execution_count": 5,
   "id": "9b1cbd32",
   "metadata": {},
   "outputs": [
    {
     "data": {
      "text/plain": [
       "['brain_cell_type_function_AD_pathways_PC_homo_v11mse_pos_uniform_15000batch.pkl']"
      ]
     },
     "execution_count": 5,
     "metadata": {},
     "output_type": "execute_result"
    }
   ],
   "source": [
    "file_list"
   ]
  },
  {
   "cell_type": "code",
   "execution_count": 6,
   "id": "199d6986",
   "metadata": {},
   "outputs": [],
   "source": [
    "task_file_path='./save_model/resilience/processed_data/'+file_list[0]\n",
    "with open(task_file_path, 'rb') as file:\n",
    "    task_file = pickle.load(file)\n",
    "args=task_file['args']\n",
    "data_x_s=task_file['data_x_s']\n",
    "mask_list_dict=task_file['mask_dict']\n",
    "data=task_file['data']\n",
    "TP_df=task_file['TP_df']\n",
    "PPI_df=task_file['ppi_df_1']"
   ]
  },
  {
   "cell_type": "code",
   "execution_count": null,
   "id": "977790f3",
   "metadata": {},
   "outputs": [],
   "source": []
  },
  {
   "cell_type": "code",
   "execution_count": 7,
   "id": "57c4d034",
   "metadata": {},
   "outputs": [
    {
     "name": "stderr",
     "output_type": "stream",
     "text": [
      "/usr/local/lib/python3.8/dist-packages/torch/nn/modules/lazy.py:180: UserWarning: Lazy modules are a new feature under heavy development so changes to the API or functionality can happen at any moment.\n",
      "  warnings.warn('Lazy modules are a new feature under heavy development '\n"
     ]
    }
   ],
   "source": [
    "model=iGTP(args,mask_list_dict)\n",
    "saved_state_dict = torch.load(args['model_dir']+model_list[0],map_location=\"cpu\")\n",
    "model.load_state_dict(saved_state_dict)\n",
    "model.eval()\n",
    "with torch.no_grad():\n",
    "    z=model.encode_z(torch.tensor(data_x_s).float())\n",
    "    ppi=model.encode_ppi(torch.tensor(data_x_s).float())"
   ]
  },
  {
   "cell_type": "code",
   "execution_count": 10,
   "id": "605a528d",
   "metadata": {},
   "outputs": [
    {
     "data": {
      "text/html": [
       "<div>\n",
       "<style scoped>\n",
       "    .dataframe tbody tr th:only-of-type {\n",
       "        vertical-align: middle;\n",
       "    }\n",
       "\n",
       "    .dataframe tbody tr th {\n",
       "        vertical-align: top;\n",
       "    }\n",
       "\n",
       "    .dataframe thead th {\n",
       "        text-align: right;\n",
       "    }\n",
       "</style>\n",
       "<table border=\"1\" class=\"dataframe\">\n",
       "  <thead>\n",
       "    <tr style=\"text-align: right;\">\n",
       "      <th></th>\n",
       "      <th>orig.ident</th>\n",
       "      <th>nCount_RNA</th>\n",
       "      <th>nFeature_RNA</th>\n",
       "      <th>libraryBatch</th>\n",
       "      <th>cellBarcode</th>\n",
       "      <th>individualID</th>\n",
       "      <th>cell.type</th>\n",
       "      <th>state</th>\n",
       "      <th>percent.mt</th>\n",
       "      <th>nCount_SCT</th>\n",
       "      <th>...</th>\n",
       "      <th>cell.type.clinic.diag</th>\n",
       "      <th>cell.type.resilience.diag</th>\n",
       "      <th>new.line</th>\n",
       "      <th>new.cell.cluster</th>\n",
       "      <th>new.resilience.diag</th>\n",
       "      <th>n_genes</th>\n",
       "      <th>n_genes_by_counts</th>\n",
       "      <th>total_counts</th>\n",
       "      <th>total_counts_mt</th>\n",
       "      <th>pct_counts_mt</th>\n",
       "    </tr>\n",
       "  </thead>\n",
       "  <tbody>\n",
       "    <tr>\n",
       "      <th>AD_200730-B41-A_ATTCGTTCAGAACTAA-1</th>\n",
       "      <td>200730-B41-A</td>\n",
       "      <td>49975.0</td>\n",
       "      <td>8937</td>\n",
       "      <td>200730-B41-A</td>\n",
       "      <td>ATTCGTTCAGAACTAA-1</td>\n",
       "      <td>R5935442</td>\n",
       "      <td>Excitatory Neurons</td>\n",
       "      <td>Exc.14</td>\n",
       "      <td>0.920521</td>\n",
       "      <td>8908.0</td>\n",
       "      <td>...</td>\n",
       "      <td>Excitatory_Neurons_Control</td>\n",
       "      <td>Excitatory_Neurons_Control</td>\n",
       "      <td>Excitatory Neurons</td>\n",
       "      <td>Excitatory Neurons</td>\n",
       "      <td>Control</td>\n",
       "      <td>8937</td>\n",
       "      <td>8937</td>\n",
       "      <td>49975.0</td>\n",
       "      <td>382.0</td>\n",
       "      <td>0.764382</td>\n",
       "    </tr>\n",
       "    <tr>\n",
       "      <th>AD_200730-B41-A_ATTCACTCATCTCATT-1</th>\n",
       "      <td>200730-B41-A</td>\n",
       "      <td>49856.0</td>\n",
       "      <td>9301</td>\n",
       "      <td>200730-B41-A</td>\n",
       "      <td>ATTCACTCATCTCATT-1</td>\n",
       "      <td>R2398607</td>\n",
       "      <td>Excitatory Neurons</td>\n",
       "      <td>Exc.12</td>\n",
       "      <td>1.336649</td>\n",
       "      <td>9651.0</td>\n",
       "      <td>...</td>\n",
       "      <td>Excitatory_Neurons_AD</td>\n",
       "      <td>Excitatory_Neurons_AD</td>\n",
       "      <td>Excitatory Neurons</td>\n",
       "      <td>Excitatory Neurons</td>\n",
       "      <td>AD</td>\n",
       "      <td>9301</td>\n",
       "      <td>9301</td>\n",
       "      <td>49856.0</td>\n",
       "      <td>625.0</td>\n",
       "      <td>1.253610</td>\n",
       "    </tr>\n",
       "    <tr>\n",
       "      <th>AD_200730-B41-A_GTTAGACAGGAACTCG-1</th>\n",
       "      <td>200730-B41-A</td>\n",
       "      <td>49567.0</td>\n",
       "      <td>9128</td>\n",
       "      <td>200730-B41-A</td>\n",
       "      <td>GTTAGACAGGAACTCG-1</td>\n",
       "      <td>R5935442</td>\n",
       "      <td>Excitatory Neurons</td>\n",
       "      <td>Exc.3</td>\n",
       "      <td>9.699439</td>\n",
       "      <td>9083.0</td>\n",
       "      <td>...</td>\n",
       "      <td>Excitatory_Neurons_Control</td>\n",
       "      <td>Excitatory_Neurons_Control</td>\n",
       "      <td>Excitatory Neurons</td>\n",
       "      <td>Excitatory Neurons</td>\n",
       "      <td>Control</td>\n",
       "      <td>9128</td>\n",
       "      <td>9128</td>\n",
       "      <td>49567.0</td>\n",
       "      <td>5470.0</td>\n",
       "      <td>11.035568</td>\n",
       "    </tr>\n",
       "    <tr>\n",
       "      <th>AD_200730-B41-A_CTACCTGTCTAGGCAT-1</th>\n",
       "      <td>200730-B41-A</td>\n",
       "      <td>49518.0</td>\n",
       "      <td>8024</td>\n",
       "      <td>200730-B41-A</td>\n",
       "      <td>CTACCTGTCTAGGCAT-1</td>\n",
       "      <td>R5935442</td>\n",
       "      <td>Excitatory Neurons</td>\n",
       "      <td>Exc.16</td>\n",
       "      <td>0.413731</td>\n",
       "      <td>8943.0</td>\n",
       "      <td>...</td>\n",
       "      <td>Excitatory_Neurons_Control</td>\n",
       "      <td>Excitatory_Neurons_Control</td>\n",
       "      <td>Excitatory Neurons</td>\n",
       "      <td>Excitatory Neurons</td>\n",
       "      <td>Control</td>\n",
       "      <td>8024</td>\n",
       "      <td>8024</td>\n",
       "      <td>49518.0</td>\n",
       "      <td>51.0</td>\n",
       "      <td>0.102993</td>\n",
       "    </tr>\n",
       "    <tr>\n",
       "      <th>AD_200730-B41-A_GATTCTTGTCATGGCC-1</th>\n",
       "      <td>200730-B41-A</td>\n",
       "      <td>49483.0</td>\n",
       "      <td>8660</td>\n",
       "      <td>200730-B41-A</td>\n",
       "      <td>GATTCTTGTCATGGCC-1</td>\n",
       "      <td>R5935442</td>\n",
       "      <td>Excitatory Neurons</td>\n",
       "      <td>Exc.4</td>\n",
       "      <td>1.377625</td>\n",
       "      <td>9001.0</td>\n",
       "      <td>...</td>\n",
       "      <td>Excitatory_Neurons_Control</td>\n",
       "      <td>Excitatory_Neurons_Control</td>\n",
       "      <td>Excitatory Neurons</td>\n",
       "      <td>Excitatory Neurons</td>\n",
       "      <td>Control</td>\n",
       "      <td>8660</td>\n",
       "      <td>8660</td>\n",
       "      <td>49483.0</td>\n",
       "      <td>640.0</td>\n",
       "      <td>1.293373</td>\n",
       "    </tr>\n",
       "    <tr>\n",
       "      <th>...</th>\n",
       "      <td>...</td>\n",
       "      <td>...</td>\n",
       "      <td>...</td>\n",
       "      <td>...</td>\n",
       "      <td>...</td>\n",
       "      <td>...</td>\n",
       "      <td>...</td>\n",
       "      <td>...</td>\n",
       "      <td>...</td>\n",
       "      <td>...</td>\n",
       "      <td>...</td>\n",
       "      <td>...</td>\n",
       "      <td>...</td>\n",
       "      <td>...</td>\n",
       "      <td>...</td>\n",
       "      <td>...</td>\n",
       "      <td>...</td>\n",
       "      <td>...</td>\n",
       "      <td>...</td>\n",
       "      <td>...</td>\n",
       "      <td>...</td>\n",
       "    </tr>\n",
       "    <tr>\n",
       "      <th>AD_200225-B10-B_CGTGTCTAGCGTCTGC-1</th>\n",
       "      <td>200225-B10-B</td>\n",
       "      <td>1066.0</td>\n",
       "      <td>833</td>\n",
       "      <td>200225-B10-B</td>\n",
       "      <td>CGTGTCTAGCGTCTGC-1</td>\n",
       "      <td>R7840275</td>\n",
       "      <td>Oligodendrocytes</td>\n",
       "      <td>Oli.11</td>\n",
       "      <td>1.989607</td>\n",
       "      <td>6735.0</td>\n",
       "      <td>...</td>\n",
       "      <td>Oligodendrocytes_Control</td>\n",
       "      <td>Oligodendrocytes_Control</td>\n",
       "      <td>Oligodendrocytes</td>\n",
       "      <td>Oligodendrocytes</td>\n",
       "      <td>Control</td>\n",
       "      <td>833</td>\n",
       "      <td>833</td>\n",
       "      <td>1066.0</td>\n",
       "      <td>11.0</td>\n",
       "      <td>1.031895</td>\n",
       "    </tr>\n",
       "    <tr>\n",
       "      <th>AD_200225-B10-B_TGTACAGGTCGTGGAA-1</th>\n",
       "      <td>200225-B10-B</td>\n",
       "      <td>836.0</td>\n",
       "      <td>706</td>\n",
       "      <td>200225-B10-B</td>\n",
       "      <td>TGTACAGGTCGTGGAA-1</td>\n",
       "      <td>R7840275</td>\n",
       "      <td>Oligodendrocytes</td>\n",
       "      <td>Oli.8</td>\n",
       "      <td>2.301444</td>\n",
       "      <td>6648.0</td>\n",
       "      <td>...</td>\n",
       "      <td>Oligodendrocytes_Control</td>\n",
       "      <td>Oligodendrocytes_Control</td>\n",
       "      <td>Oligodendrocytes</td>\n",
       "      <td>Oligodendrocytes</td>\n",
       "      <td>Control</td>\n",
       "      <td>706</td>\n",
       "      <td>706</td>\n",
       "      <td>836.0</td>\n",
       "      <td>11.0</td>\n",
       "      <td>1.315789</td>\n",
       "    </tr>\n",
       "    <tr>\n",
       "      <th>AD_200225-B10-B_ATCGTGAAGAGTGGCT-1</th>\n",
       "      <td>200225-B10-B</td>\n",
       "      <td>776.0</td>\n",
       "      <td>670</td>\n",
       "      <td>200225-B10-B</td>\n",
       "      <td>ATCGTGAAGAGTGGCT-1</td>\n",
       "      <td>R7840275</td>\n",
       "      <td>Microglia</td>\n",
       "      <td>Mic.2</td>\n",
       "      <td>2.336374</td>\n",
       "      <td>6249.0</td>\n",
       "      <td>...</td>\n",
       "      <td>Microglia_Control</td>\n",
       "      <td>Microglia_Control</td>\n",
       "      <td>Microglia</td>\n",
       "      <td>Microglia</td>\n",
       "      <td>Control</td>\n",
       "      <td>670</td>\n",
       "      <td>670</td>\n",
       "      <td>776.0</td>\n",
       "      <td>10.0</td>\n",
       "      <td>1.288660</td>\n",
       "    </tr>\n",
       "    <tr>\n",
       "      <th>AD_200225-B10-B_CAGGGCTCATTGTGCA-1</th>\n",
       "      <td>200225-B10-B</td>\n",
       "      <td>724.0</td>\n",
       "      <td>619</td>\n",
       "      <td>200225-B10-B</td>\n",
       "      <td>CAGGGCTCATTGTGCA-1</td>\n",
       "      <td>R7840275</td>\n",
       "      <td>Oligodendrocytes</td>\n",
       "      <td>Oli.11</td>\n",
       "      <td>3.147287</td>\n",
       "      <td>6450.0</td>\n",
       "      <td>...</td>\n",
       "      <td>Oligodendrocytes_Control</td>\n",
       "      <td>Oligodendrocytes_Control</td>\n",
       "      <td>Oligodendrocytes</td>\n",
       "      <td>Oligodendrocytes</td>\n",
       "      <td>Control</td>\n",
       "      <td>619</td>\n",
       "      <td>619</td>\n",
       "      <td>724.0</td>\n",
       "      <td>13.0</td>\n",
       "      <td>1.795580</td>\n",
       "    </tr>\n",
       "    <tr>\n",
       "      <th>AD_200225-B10-B_CAAGAGGAGGGCGAAG-1</th>\n",
       "      <td>200225-B10-B</td>\n",
       "      <td>466.0</td>\n",
       "      <td>416</td>\n",
       "      <td>200225-B10-B</td>\n",
       "      <td>CAAGAGGAGGGCGAAG-1</td>\n",
       "      <td>R7840275</td>\n",
       "      <td>Microglia</td>\n",
       "      <td>Mic.5</td>\n",
       "      <td>5.516922</td>\n",
       "      <td>6471.0</td>\n",
       "      <td>...</td>\n",
       "      <td>Microglia_Control</td>\n",
       "      <td>Microglia_Control</td>\n",
       "      <td>Microglia</td>\n",
       "      <td>Microglia</td>\n",
       "      <td>Control</td>\n",
       "      <td>416</td>\n",
       "      <td>416</td>\n",
       "      <td>466.0</td>\n",
       "      <td>22.0</td>\n",
       "      <td>4.721030</td>\n",
       "    </tr>\n",
       "  </tbody>\n",
       "</table>\n",
       "<p>236963 rows × 28 columns</p>\n",
       "</div>"
      ],
      "text/plain": [
       "                                      orig.ident  nCount_RNA  nFeature_RNA  \\\n",
       "AD_200730-B41-A_ATTCGTTCAGAACTAA-1  200730-B41-A     49975.0          8937   \n",
       "AD_200730-B41-A_ATTCACTCATCTCATT-1  200730-B41-A     49856.0          9301   \n",
       "AD_200730-B41-A_GTTAGACAGGAACTCG-1  200730-B41-A     49567.0          9128   \n",
       "AD_200730-B41-A_CTACCTGTCTAGGCAT-1  200730-B41-A     49518.0          8024   \n",
       "AD_200730-B41-A_GATTCTTGTCATGGCC-1  200730-B41-A     49483.0          8660   \n",
       "...                                          ...         ...           ...   \n",
       "AD_200225-B10-B_CGTGTCTAGCGTCTGC-1  200225-B10-B      1066.0           833   \n",
       "AD_200225-B10-B_TGTACAGGTCGTGGAA-1  200225-B10-B       836.0           706   \n",
       "AD_200225-B10-B_ATCGTGAAGAGTGGCT-1  200225-B10-B       776.0           670   \n",
       "AD_200225-B10-B_CAGGGCTCATTGTGCA-1  200225-B10-B       724.0           619   \n",
       "AD_200225-B10-B_CAAGAGGAGGGCGAAG-1  200225-B10-B       466.0           416   \n",
       "\n",
       "                                    libraryBatch         cellBarcode  \\\n",
       "AD_200730-B41-A_ATTCGTTCAGAACTAA-1  200730-B41-A  ATTCGTTCAGAACTAA-1   \n",
       "AD_200730-B41-A_ATTCACTCATCTCATT-1  200730-B41-A  ATTCACTCATCTCATT-1   \n",
       "AD_200730-B41-A_GTTAGACAGGAACTCG-1  200730-B41-A  GTTAGACAGGAACTCG-1   \n",
       "AD_200730-B41-A_CTACCTGTCTAGGCAT-1  200730-B41-A  CTACCTGTCTAGGCAT-1   \n",
       "AD_200730-B41-A_GATTCTTGTCATGGCC-1  200730-B41-A  GATTCTTGTCATGGCC-1   \n",
       "...                                          ...                 ...   \n",
       "AD_200225-B10-B_CGTGTCTAGCGTCTGC-1  200225-B10-B  CGTGTCTAGCGTCTGC-1   \n",
       "AD_200225-B10-B_TGTACAGGTCGTGGAA-1  200225-B10-B  TGTACAGGTCGTGGAA-1   \n",
       "AD_200225-B10-B_ATCGTGAAGAGTGGCT-1  200225-B10-B  ATCGTGAAGAGTGGCT-1   \n",
       "AD_200225-B10-B_CAGGGCTCATTGTGCA-1  200225-B10-B  CAGGGCTCATTGTGCA-1   \n",
       "AD_200225-B10-B_CAAGAGGAGGGCGAAG-1  200225-B10-B  CAAGAGGAGGGCGAAG-1   \n",
       "\n",
       "                                   individualID           cell.type   state  \\\n",
       "AD_200730-B41-A_ATTCGTTCAGAACTAA-1     R5935442  Excitatory Neurons  Exc.14   \n",
       "AD_200730-B41-A_ATTCACTCATCTCATT-1     R2398607  Excitatory Neurons  Exc.12   \n",
       "AD_200730-B41-A_GTTAGACAGGAACTCG-1     R5935442  Excitatory Neurons   Exc.3   \n",
       "AD_200730-B41-A_CTACCTGTCTAGGCAT-1     R5935442  Excitatory Neurons  Exc.16   \n",
       "AD_200730-B41-A_GATTCTTGTCATGGCC-1     R5935442  Excitatory Neurons   Exc.4   \n",
       "...                                         ...                 ...     ...   \n",
       "AD_200225-B10-B_CGTGTCTAGCGTCTGC-1     R7840275    Oligodendrocytes  Oli.11   \n",
       "AD_200225-B10-B_TGTACAGGTCGTGGAA-1     R7840275    Oligodendrocytes   Oli.8   \n",
       "AD_200225-B10-B_ATCGTGAAGAGTGGCT-1     R7840275           Microglia   Mic.2   \n",
       "AD_200225-B10-B_CAGGGCTCATTGTGCA-1     R7840275    Oligodendrocytes  Oli.11   \n",
       "AD_200225-B10-B_CAAGAGGAGGGCGAAG-1     R7840275           Microglia   Mic.5   \n",
       "\n",
       "                                    percent.mt  nCount_SCT  ...  \\\n",
       "AD_200730-B41-A_ATTCGTTCAGAACTAA-1    0.920521      8908.0  ...   \n",
       "AD_200730-B41-A_ATTCACTCATCTCATT-1    1.336649      9651.0  ...   \n",
       "AD_200730-B41-A_GTTAGACAGGAACTCG-1    9.699439      9083.0  ...   \n",
       "AD_200730-B41-A_CTACCTGTCTAGGCAT-1    0.413731      8943.0  ...   \n",
       "AD_200730-B41-A_GATTCTTGTCATGGCC-1    1.377625      9001.0  ...   \n",
       "...                                        ...         ...  ...   \n",
       "AD_200225-B10-B_CGTGTCTAGCGTCTGC-1    1.989607      6735.0  ...   \n",
       "AD_200225-B10-B_TGTACAGGTCGTGGAA-1    2.301444      6648.0  ...   \n",
       "AD_200225-B10-B_ATCGTGAAGAGTGGCT-1    2.336374      6249.0  ...   \n",
       "AD_200225-B10-B_CAGGGCTCATTGTGCA-1    3.147287      6450.0  ...   \n",
       "AD_200225-B10-B_CAAGAGGAGGGCGAAG-1    5.516922      6471.0  ...   \n",
       "\n",
       "                                         cell.type.clinic.diag  \\\n",
       "AD_200730-B41-A_ATTCGTTCAGAACTAA-1  Excitatory_Neurons_Control   \n",
       "AD_200730-B41-A_ATTCACTCATCTCATT-1       Excitatory_Neurons_AD   \n",
       "AD_200730-B41-A_GTTAGACAGGAACTCG-1  Excitatory_Neurons_Control   \n",
       "AD_200730-B41-A_CTACCTGTCTAGGCAT-1  Excitatory_Neurons_Control   \n",
       "AD_200730-B41-A_GATTCTTGTCATGGCC-1  Excitatory_Neurons_Control   \n",
       "...                                                        ...   \n",
       "AD_200225-B10-B_CGTGTCTAGCGTCTGC-1    Oligodendrocytes_Control   \n",
       "AD_200225-B10-B_TGTACAGGTCGTGGAA-1    Oligodendrocytes_Control   \n",
       "AD_200225-B10-B_ATCGTGAAGAGTGGCT-1           Microglia_Control   \n",
       "AD_200225-B10-B_CAGGGCTCATTGTGCA-1    Oligodendrocytes_Control   \n",
       "AD_200225-B10-B_CAAGAGGAGGGCGAAG-1           Microglia_Control   \n",
       "\n",
       "                                     cell.type.resilience.diag  \\\n",
       "AD_200730-B41-A_ATTCGTTCAGAACTAA-1  Excitatory_Neurons_Control   \n",
       "AD_200730-B41-A_ATTCACTCATCTCATT-1       Excitatory_Neurons_AD   \n",
       "AD_200730-B41-A_GTTAGACAGGAACTCG-1  Excitatory_Neurons_Control   \n",
       "AD_200730-B41-A_CTACCTGTCTAGGCAT-1  Excitatory_Neurons_Control   \n",
       "AD_200730-B41-A_GATTCTTGTCATGGCC-1  Excitatory_Neurons_Control   \n",
       "...                                                        ...   \n",
       "AD_200225-B10-B_CGTGTCTAGCGTCTGC-1    Oligodendrocytes_Control   \n",
       "AD_200225-B10-B_TGTACAGGTCGTGGAA-1    Oligodendrocytes_Control   \n",
       "AD_200225-B10-B_ATCGTGAAGAGTGGCT-1           Microglia_Control   \n",
       "AD_200225-B10-B_CAGGGCTCATTGTGCA-1    Oligodendrocytes_Control   \n",
       "AD_200225-B10-B_CAAGAGGAGGGCGAAG-1           Microglia_Control   \n",
       "\n",
       "                                              new.line    new.cell.cluster  \\\n",
       "AD_200730-B41-A_ATTCGTTCAGAACTAA-1  Excitatory Neurons  Excitatory Neurons   \n",
       "AD_200730-B41-A_ATTCACTCATCTCATT-1  Excitatory Neurons  Excitatory Neurons   \n",
       "AD_200730-B41-A_GTTAGACAGGAACTCG-1  Excitatory Neurons  Excitatory Neurons   \n",
       "AD_200730-B41-A_CTACCTGTCTAGGCAT-1  Excitatory Neurons  Excitatory Neurons   \n",
       "AD_200730-B41-A_GATTCTTGTCATGGCC-1  Excitatory Neurons  Excitatory Neurons   \n",
       "...                                                ...                 ...   \n",
       "AD_200225-B10-B_CGTGTCTAGCGTCTGC-1    Oligodendrocytes    Oligodendrocytes   \n",
       "AD_200225-B10-B_TGTACAGGTCGTGGAA-1    Oligodendrocytes    Oligodendrocytes   \n",
       "AD_200225-B10-B_ATCGTGAAGAGTGGCT-1           Microglia           Microglia   \n",
       "AD_200225-B10-B_CAGGGCTCATTGTGCA-1    Oligodendrocytes    Oligodendrocytes   \n",
       "AD_200225-B10-B_CAAGAGGAGGGCGAAG-1           Microglia           Microglia   \n",
       "\n",
       "                                   new.resilience.diag  n_genes  \\\n",
       "AD_200730-B41-A_ATTCGTTCAGAACTAA-1             Control     8937   \n",
       "AD_200730-B41-A_ATTCACTCATCTCATT-1                  AD     9301   \n",
       "AD_200730-B41-A_GTTAGACAGGAACTCG-1             Control     9128   \n",
       "AD_200730-B41-A_CTACCTGTCTAGGCAT-1             Control     8024   \n",
       "AD_200730-B41-A_GATTCTTGTCATGGCC-1             Control     8660   \n",
       "...                                                ...      ...   \n",
       "AD_200225-B10-B_CGTGTCTAGCGTCTGC-1             Control      833   \n",
       "AD_200225-B10-B_TGTACAGGTCGTGGAA-1             Control      706   \n",
       "AD_200225-B10-B_ATCGTGAAGAGTGGCT-1             Control      670   \n",
       "AD_200225-B10-B_CAGGGCTCATTGTGCA-1             Control      619   \n",
       "AD_200225-B10-B_CAAGAGGAGGGCGAAG-1             Control      416   \n",
       "\n",
       "                                    n_genes_by_counts total_counts  \\\n",
       "AD_200730-B41-A_ATTCGTTCAGAACTAA-1               8937      49975.0   \n",
       "AD_200730-B41-A_ATTCACTCATCTCATT-1               9301      49856.0   \n",
       "AD_200730-B41-A_GTTAGACAGGAACTCG-1               9128      49567.0   \n",
       "AD_200730-B41-A_CTACCTGTCTAGGCAT-1               8024      49518.0   \n",
       "AD_200730-B41-A_GATTCTTGTCATGGCC-1               8660      49483.0   \n",
       "...                                               ...          ...   \n",
       "AD_200225-B10-B_CGTGTCTAGCGTCTGC-1                833       1066.0   \n",
       "AD_200225-B10-B_TGTACAGGTCGTGGAA-1                706        836.0   \n",
       "AD_200225-B10-B_ATCGTGAAGAGTGGCT-1                670        776.0   \n",
       "AD_200225-B10-B_CAGGGCTCATTGTGCA-1                619        724.0   \n",
       "AD_200225-B10-B_CAAGAGGAGGGCGAAG-1                416        466.0   \n",
       "\n",
       "                                   total_counts_mt pct_counts_mt  \n",
       "AD_200730-B41-A_ATTCGTTCAGAACTAA-1           382.0      0.764382  \n",
       "AD_200730-B41-A_ATTCACTCATCTCATT-1           625.0      1.253610  \n",
       "AD_200730-B41-A_GTTAGACAGGAACTCG-1          5470.0     11.035568  \n",
       "AD_200730-B41-A_CTACCTGTCTAGGCAT-1            51.0      0.102993  \n",
       "AD_200730-B41-A_GATTCTTGTCATGGCC-1           640.0      1.293373  \n",
       "...                                            ...           ...  \n",
       "AD_200225-B10-B_CGTGTCTAGCGTCTGC-1            11.0      1.031895  \n",
       "AD_200225-B10-B_TGTACAGGTCGTGGAA-1            11.0      1.315789  \n",
       "AD_200225-B10-B_ATCGTGAAGAGTGGCT-1            10.0      1.288660  \n",
       "AD_200225-B10-B_CAGGGCTCATTGTGCA-1            13.0      1.795580  \n",
       "AD_200225-B10-B_CAAGAGGAGGGCGAAG-1            22.0      4.721030  \n",
       "\n",
       "[236963 rows x 28 columns]"
      ]
     },
     "execution_count": 10,
     "metadata": {},
     "output_type": "execute_result"
    }
   ],
   "source": [
    "data.obs"
   ]
  },
  {
   "cell_type": "code",
   "execution_count": 11,
   "id": "85b1935d",
   "metadata": {},
   "outputs": [],
   "source": [
    "TP_df_z=pd.DataFrame(z,columns=list(TP_df['TP_name']))\n",
    "TP_df_z['cell_type']=data.obs['cell.type'].values\n",
    "TP_df_z['diag']=data.obs['new.resilience.diag'].values\n",
    "TP_df_z.to_csv('./fig_3_result/tp_df/'+file_list[0].replace('.pkl','.csv'))"
   ]
  },
  {
   "cell_type": "code",
   "execution_count": null,
   "id": "9cbb1f69",
   "metadata": {},
   "outputs": [],
   "source": [
    "tsne_1 = TSNE(n_components=2, random_state=42).fit_transform(z)\n",
    "label_df=data.obs.reset_index()\n",
    "label_df['dim_1']=tsne_1[:,0]\n",
    "label_df['dim_2']=tsne_1[:,1]"
   ]
  },
  {
   "cell_type": "code",
   "execution_count": null,
   "id": "ab985adf",
   "metadata": {},
   "outputs": [],
   "source": [
    "label_df.to_csv('./fig_3_result/'+file_list[0].replace('.pkl','.csv'))"
   ]
  },
  {
   "cell_type": "code",
   "execution_count": null,
   "id": "d846b13b",
   "metadata": {},
   "outputs": [],
   "source": [
    "TP_df"
   ]
  },
  {
   "cell_type": "code",
   "execution_count": null,
   "id": "a187c8ec",
   "metadata": {},
   "outputs": [],
   "source": [
    "pd.DataFrame(z,columns=list(TP_df['TP_name'])).to_csv('./fig_3_result/tp_df/'+file_list[0].replace('.pkl','.csv'))"
   ]
  },
  {
   "cell_type": "code",
   "execution_count": null,
   "id": "38a54d9f",
   "metadata": {},
   "outputs": [],
   "source": [
    "int_pathway_file='/home/vega/AD_resilience/meta_data/VEGA_TPs_of_interest.txt'"
   ]
  },
  {
   "cell_type": "code",
   "execution_count": null,
   "id": "b46ceda5",
   "metadata": {},
   "outputs": [],
   "source": [
    "int_path=pd.read_csv(int_pathway_file)\n",
    "int_path=int_path.pathway.values\n",
    "int_path_name=[i.upper() for i in int_path]"
   ]
  },
  {
   "cell_type": "code",
   "execution_count": null,
   "id": "f44a777c",
   "metadata": {},
   "outputs": [],
   "source": [
    "TP_df['TP_name']=[i.upper() for i in TP_df['TP_name']]"
   ]
  },
  {
   "cell_type": "code",
   "execution_count": null,
   "id": "9061eb05",
   "metadata": {},
   "outputs": [],
   "source": [
    "int_path_name"
   ]
  },
  {
   "cell_type": "code",
   "execution_count": null,
   "id": "36b485e1",
   "metadata": {},
   "outputs": [],
   "source": [
    "for i in TP_df.TP_name.values:\n",
    "    print(i)"
   ]
  },
  {
   "cell_type": "code",
   "execution_count": null,
   "id": "4ac8fb34",
   "metadata": {},
   "outputs": [],
   "source": [
    "new_tp_df=TP_df[TP_df.TP_name.isin(int_path_name)]\n",
    "print(new_tp_df)"
   ]
  },
  {
   "cell_type": "code",
   "execution_count": null,
   "id": "20732ac9",
   "metadata": {},
   "outputs": [],
   "source": [
    "cell_inf=data.obs.copy()\n",
    "cell_inf['cell_index']=range(len(cell_inf))"
   ]
  },
  {
   "cell_type": "code",
   "execution_count": null,
   "id": "e7ec112c",
   "metadata": {},
   "outputs": [],
   "source": [
    "import seaborn as sns"
   ]
  },
  {
   "cell_type": "code",
   "execution_count": null,
   "id": "4d496ed4",
   "metadata": {},
   "outputs": [],
   "source": [
    "all_emb=[]\n",
    "for l in cell_inf['cell.type'].unique():\n",
    "    q_index=cell_inf[(cell_inf['cell.type']==l) & (cell_inf['resilience.diag']=='Control')]['cell_index'].values\n",
    "    emb_file1=z[:,new_tp_df['TP_index'].values]\n",
    "    emb_file1=emb_file1[q_index,]\n",
    "    emb_file1=np.mean(emb_file1,axis=0)\n",
    "    all_emb.append(emb_file1)\n",
    "all_emb=np.array(all_emb)\n",
    "all_emb=all_emb.T\n",
    "all_emb_df_1=pd.DataFrame(all_emb,columns=list(cell_inf['cell.type'].unique()))\n",
    "all_emb_df_1.index=new_tp_df.TP_name.values+'_Control'\n",
    "all_emb=[]\n",
    "for l in cell_inf['cell.type'].unique():\n",
    "        q_index=cell_inf[(cell_inf['cell.type']==l) & (cell_inf['resilience.diag']=='AD')]['cell_index'].values\n",
    "        emb_file1=z[:,new_tp_df['TP_index'].values]\n",
    "        emb_file1=emb_file1[q_index,]\n",
    "        emb_file1=np.mean(emb_file1,axis=0)\n",
    "        all_emb.append(emb_file1)\n",
    "all_emb=np.array(all_emb)\n",
    "all_emb=all_emb.T\n",
    "all_emb_df_2=pd.DataFrame(all_emb,columns=list(cell_inf['cell.type'].unique()))\n",
    "all_emb_df_2.index=new_tp_df.TP_name.values+'_AD'\n",
    "all_emb_df=pd.concat([all_emb_df_1,all_emb_df_2])\n",
    "    \n",
    "myplot = sns.clustermap(all_emb_df.T,method='complete',metric='correlation',cmap=\"seismic\",cbar_pos=(0.02, 0.29, 0.05, 0.08),z_score = 0,figsize=(20, 20))\n",
    "myplot.ax_heatmap.set_xticklabels(myplot.ax_heatmap.get_xticklabels(), rotation=45, ha='right')\n",
    "plt.xticks(fontsize=10)\n",
    "plt.yticks(fontsize=10)\n",
    "#sns.move_legend(myplot, \"upper right\")\n",
    "path='./fig_3_result/cluster_heatmap/brain_ad.pdf'\n",
    "plt.savefig(path, bbox_inches='tight',dpi=300)"
   ]
  },
  {
   "cell_type": "code",
   "execution_count": null,
   "id": "d91a2138",
   "metadata": {},
   "outputs": [],
   "source": [
    "new_tp_df"
   ]
  },
  {
   "cell_type": "code",
   "execution_count": null,
   "id": "fa5c5278",
   "metadata": {},
   "outputs": [],
   "source": [
    "color_dict={'AD':'red',\n",
    "            'Control': 'blue',\n",
    "            }"
   ]
  },
  {
   "cell_type": "code",
   "execution_count": null,
   "id": "6afbd4d2",
   "metadata": {},
   "outputs": [],
   "source": [
    "sns.set_style(\"white\")"
   ]
  },
  {
   "cell_type": "code",
   "execution_count": null,
   "id": "06694c1f",
   "metadata": {},
   "outputs": [],
   "source": [
    "sns.set_style(\"white\")"
   ]
  },
  {
   "cell_type": "code",
   "execution_count": null,
   "id": "88384f7b",
   "metadata": {},
   "outputs": [],
   "source": [
    "int_path_name_1=new_tp_df['TP_name'].values\n",
    "int_path_index=new_tp_df['TP_index'].values\n",
    "for m in tqdm(range(len(int_path_name_1))):\n",
    "    for n in range(m+1, len(int_path_name_1)):\n",
    "        name_pair = [int_path_name_1[m], int_path_name_1[n]]\n",
    "        index_pair = [int_path_index[m], int_path_index[n]]\n",
    "        temp_df=cell_inf[['cell.type','resilience.diag']]\n",
    "        temp_df[name_pair[0]]=z[:,index_pair[0]]\n",
    "        temp_df[name_pair[1]]=z[:,index_pair[1]]\n",
    "        path='./fig_3_result/TP_shift_brain_df/'+name_pair[0]+'_'+name_pair[1]+'.csv'\n",
    "        temp_df.to_csv(path)\n",
    "        plt.figure(figsize=(50,10))\n",
    "        g = sns.FacetGrid(temp_df.sample(frac=0.5), col=\"cell.type\",hue='resilience.diag', margin_titles=True,palette=color_dict)\n",
    "        g.map_dataframe(sns.scatterplot, x=name_pair[0], y=name_pair[1],s=0.8)\n",
    "        figure_save_file_name='./fig_3_result/TP_shift_brain/'+name_pair[0]+'_'+name_pair[1]+'_shift.png'\n",
    "        g.figure.savefig(figure_save_file_name,dpi=200)"
   ]
  },
  {
   "cell_type": "code",
   "execution_count": null,
   "id": "faecb85d",
   "metadata": {},
   "outputs": [],
   "source": [
    "query_gene=[]\n",
    "for i in new_tp_df['TP_gene']:\n",
    "    for j in i:\n",
    "        query_gene.append(j)\n",
    "query_gene=list(set(query_gene))"
   ]
  },
  {
   "cell_type": "code",
   "execution_count": null,
   "id": "501784ff",
   "metadata": {},
   "outputs": [],
   "source": [
    "gene_weight=saved_state_dict['decoder_Gene_Gene.0.weight'].cpu().detach().numpy()\n",
    "gene_bias=saved_state_dict['decoder_Gene_Gene.0.bias'].cpu().detach().numpy()\n",
    "#ori_ppi_df=pd.read_csv('/home/iGTP/ppi/PC_homo_v11.txt',sep='\\t')\n",
    "#new_PPI_df=PPI_df.merge(ori_ppi_df)\n",
    "new_PPI_df=PPI_df[(PPI_df.gene1.isin(query_gene)&(PPI_df.gene1!=PPI_df.gene2))]\n",
    "new_PPI_df=new_PPI_df[(new_PPI_df.gene2.isin(query_gene)&(new_PPI_df.gene1!=new_PPI_df.gene2))]\n",
    "new_PPI_df['PPI']=new_PPI_df['gene1']+'-'+new_PPI_df['gene2']\n",
    "new_PPI_df['PPI_index']=range(len(new_PPI_df))"
   ]
  },
  {
   "cell_type": "code",
   "execution_count": null,
   "id": "246e7f72",
   "metadata": {},
   "outputs": [],
   "source": [
    "import torch\n",
    "\n",
    "# Check if CUDA (GPU support) is available\n",
    "if torch.cuda.is_available():\n",
    "    # Set the CUDA device\n",
    "    torch.cuda.set_device(1)  "
   ]
  },
  {
   "cell_type": "code",
   "execution_count": null,
   "id": "e7c92737",
   "metadata": {},
   "outputs": [],
   "source": [
    "label_df=pd.read_csv('./fig_3_result/tSNE_df/'+file_list[0].replace('.pkl','.csv'))"
   ]
  },
  {
   "cell_type": "code",
   "execution_count": null,
   "id": "fa60ce8e",
   "metadata": {},
   "outputs": [],
   "source": [
    "for i, row in tqdm(new_PPI_df.iterrows()):\n",
    "    gene_1_index = row['gene_1_index']\n",
    "    gene_2_index = row['gene_2_index']\n",
    "    PPI=row['PPI']\n",
    "    specific_sites1 = [(gene_1_index, gene_2_index)]\n",
    "    specific_sites2 = [(gene_2_index, gene_1_index)]\n",
    "    mask1 = np.zeros_like(gene_weight, dtype=bool)\n",
    "    for site in specific_sites1:\n",
    "        mask1[site] = True\n",
    "    gene_weight1 = np.where(mask1, gene_weight, 0)\n",
    "\n",
    "    mask2 = np.zeros_like(gene_weight, dtype=bool)\n",
    "    for site in specific_sites2:\n",
    "        mask2[site] = True\n",
    "    gene_weight2 = np.where(mask2, gene_weight, 0)\n",
    "    \n",
    "    value1 = torch.sum(torch.mm(torch.from_numpy(ppi).cuda(),torch.from_numpy(gene_weight1.T).cuda()), dim =1).cpu().detach().numpy()\n",
    "    value2 = torch.sum(torch.mm(torch.from_numpy(ppi).cuda(),torch.from_numpy(gene_weight2.T).cuda()), dim =1).cpu().detach().numpy()\n",
    "    temp_df = pd.DataFrame(label_df['index'].values, columns=['cell'])\n",
    "    temp_df['value1'] = value1\n",
    "    temp_df['value2'] = value2\n",
    "    temp_df[PPI] = np.where(temp_df['value1'] > temp_df['value2'], temp_df['value1'], temp_df['value2'])\n",
    "    temp_df=temp_df[['cell',PPI]]\n",
    "    temp_df.to_csv('./PPI/brain/'+PPI+'.csv',index=False)"
   ]
  },
  {
   "cell_type": "code",
   "execution_count": null,
   "id": "8090df34",
   "metadata": {},
   "outputs": [],
   "source": [
    "z_ppi=[]\n",
    "for i in tqdm(range(len(new_PPI_df))):\n",
    "    PPI=new_PPI_df.PPI.values[i]\n",
    "    temp_df=pd.read_csv('./PPI/brain/'+PPI+'.csv')\n",
    "    z_ppi.append(temp_df[PPI].values)\n",
    "z_ppi=np.array(z_ppi).T"
   ]
  },
  {
   "cell_type": "code",
   "execution_count": null,
   "id": "4330ad31",
   "metadata": {},
   "outputs": [],
   "source": [
    "file_list[0]"
   ]
  },
  {
   "cell_type": "code",
   "execution_count": null,
   "id": "4ccf1ec3",
   "metadata": {},
   "outputs": [],
   "source": [
    "label_df=pd.read_csv('./fig_3_result/tSNE_df/'+file_list[0].replace('.pkl','.csv'))"
   ]
  },
  {
   "cell_type": "code",
   "execution_count": null,
   "id": "26b5622c",
   "metadata": {},
   "outputs": [],
   "source": [
    "tsne_1=label_df[['dim_1','dim_2']].values\n",
    "cell_inf_df=label_df[['new.resilience.diag','cell.type']]"
   ]
  },
  {
   "cell_type": "code",
   "execution_count": null,
   "id": "8cd6b752",
   "metadata": {},
   "outputs": [],
   "source": [
    "res=model.compute_pair_bayes_factor(z_ppi,cell_inf_df,'new.resilience.diag','cell.type','AD','Control',tsne_1)\n",
    "PPI_df_b=pd.DataFrame(res)"
   ]
  },
  {
   "cell_type": "code",
   "execution_count": null,
   "id": "4eacb6c4",
   "metadata": {},
   "outputs": [],
   "source": [
    "PPI_df_b['gene_1']=new_PPI_df['gene1'].values\n",
    "PPI_df_b['gene_2']=new_PPI_df['gene2'].values\n",
    "PPI_df_b['Interaction']=new_PPI_df['PPI'].values\n",
    "PPI_df_b['PPI_index']=range(len(PPI_df_b))"
   ]
  },
  {
   "cell_type": "code",
   "execution_count": null,
   "id": "56935d2a",
   "metadata": {},
   "outputs": [],
   "source": [
    "PPI_df_b_1=PPI_df_b[PPI_df_b['mad']>0]\n",
    "PPI_df_b_1=PPI_df_b_1[abs(PPI_df_b_1['bayes_factor'])>0.1]"
   ]
  },
  {
   "cell_type": "code",
   "execution_count": null,
   "id": "3a0df957",
   "metadata": {},
   "outputs": [],
   "source": [
    "PPI_df_b_1_u=PPI_df_b_1.sort_values(by='mad').tail(n=20)"
   ]
  },
  {
   "cell_type": "code",
   "execution_count": null,
   "id": "c7d35376",
   "metadata": {},
   "outputs": [],
   "source": [
    "PPI_df_b_1_u"
   ]
  },
  {
   "cell_type": "code",
   "execution_count": null,
   "id": "6f364729",
   "metadata": {},
   "outputs": [],
   "source": [
    "int_path_name_1=PPI_df_b_1_u['Interaction'].values\n",
    "int_path_index=PPI_df_b_1_u['PPI_index'].values\n",
    "for m in tqdm(range(len(int_path_name_1))):\n",
    "    for n in range(m+1, len(int_path_name_1)):\n",
    "        name_pair = [int_path_name_1[m], int_path_name_1[n]]\n",
    "        index_pair = [int_path_index[m], int_path_index[n]]\n",
    "        temp_df=cell_inf[['cell.type','resilience.diag']]\n",
    "        temp_df[name_pair[0]]=z_ppi[:,index_pair[0]]\n",
    "        temp_df[name_pair[1]]=z_ppi[:,index_pair[1]]\n",
    "        path='./fig_3_result/PPI_shift_brain_df/'+name_pair[0]+'_'+name_pair[1]+'.csv'\n",
    "        temp_df.to_csv(path)\n",
    "        plt.figure(figsize=(50,10))\n",
    "        g = sns.FacetGrid(temp_df.sample(frac=0.5), col=\"cell.type\",hue='resilience.diag', margin_titles=True,palette=color_dict)\n",
    "        g.map_dataframe(sns.scatterplot, x=name_pair[0], y=name_pair[1],s=0.8)\n",
    "        figure_save_file_name='./fig_3_result/PPI_shift_brain/'+name_pair[0]+'_'+name_pair[1]+'_shift.png'\n",
    "        g.figure.savefig(figure_save_file_name,dpi=200)"
   ]
  },
  {
   "cell_type": "code",
   "execution_count": null,
   "id": "a39f5dc9",
   "metadata": {},
   "outputs": [],
   "source": [
    "label_df=pd.read_csv('./fig_3_result/tSNE_df/'+file_list[0].replace('.pkl','.csv'))"
   ]
  },
  {
   "cell_type": "code",
   "execution_count": null,
   "id": "6c38acb5",
   "metadata": {},
   "outputs": [],
   "source": [
    "ppi.shape"
   ]
  },
  {
   "cell_type": "code",
   "execution_count": null,
   "id": "0a217092",
   "metadata": {},
   "outputs": [],
   "source": [
    "num_processes = 10\n",
    "\n",
    "# Parallel processing\n",
    "parallel_process(new_PPI_df, process_chunk, num_processes, gene_weight, label_df)\n"
   ]
  },
  {
   "cell_type": "code",
   "execution_count": null,
   "id": "f0a03f16",
   "metadata": {},
   "outputs": [],
   "source": [
    "cell_inf=data.obs.copy()\n",
    "cell_inf['cell_index']=range(len(cell_inf))"
   ]
  },
  {
   "cell_type": "code",
   "execution_count": null,
   "id": "a9a1b121",
   "metadata": {},
   "outputs": [],
   "source": [
    "cell_inf['cell.type'].unique()"
   ]
  },
  {
   "cell_type": "code",
   "execution_count": null,
   "id": "fe511d84",
   "metadata": {},
   "outputs": [],
   "source": [
    "q_index=cell_inf[(cell_inf['cell.type']==l) & (cell_inf['resilience.diag']=='Control')]['cell_index'].values"
   ]
  },
  {
   "cell_type": "code",
   "execution_count": null,
   "id": "4eba8d2b",
   "metadata": {},
   "outputs": [],
   "source": [
    "emb_file1=z[:,0]"
   ]
  },
  {
   "cell_type": "code",
   "execution_count": null,
   "id": "aedc66a0",
   "metadata": {},
   "outputs": [],
   "source": [
    "q_index_1=cell_inf[(cell_inf['cell.type']=='Excitatory Neurons') & (cell_inf['resilience.diag']=='Control')]['cell_index'].values\n",
    "q_index_2=cell_inf[(cell_inf['cell.type']=='Excitatory Neurons') & (cell_inf['resilience.diag']=='AD')]['cell_index'].values"
   ]
  },
  {
   "cell_type": "code",
   "execution_count": null,
   "id": "7c6932c5",
   "metadata": {},
   "outputs": [],
   "source": [
    "emb_file_c=emb_file1[q_index_1,]\n",
    "emb_file_a=emb_file1[q_index_2,]"
   ]
  },
  {
   "cell_type": "code",
   "execution_count": null,
   "id": "51425f53",
   "metadata": {},
   "outputs": [],
   "source": [
    "print(len(emb_file_c))\n",
    "print(len(emb_file_a))"
   ]
  },
  {
   "cell_type": "code",
   "execution_count": null,
   "id": "6dce8eed",
   "metadata": {},
   "outputs": [],
   "source": [
    "stats.ttest_ind(emb_file_c, emb_file_a)"
   ]
  },
  {
   "cell_type": "code",
   "execution_count": null,
   "id": "6880ca35",
   "metadata": {},
   "outputs": [],
   "source": [
    " all_emb=[]\n",
    "    for l in cell_inf['cell.type'].unique():\n",
    "        q_index=cell_inf[(cell_inf['cell.type']==l) & (cell_inf['resilience.diag']=='Control')]['cell_index'].values\n",
    "        emb_file1=z_tp_emb[:,new_tp_df['pathway_index'].values]\n",
    "        emb_file1=emb_file1[q_index,]\n",
    "        emb_file1=np.mean(emb_file1,axis=0)\n",
    "        all_emb.append(emb_file1)\n",
    "    all_emb=np.array(all_emb)\n",
    "    all_emb=all_emb.T\n",
    "    all_emb_df_1=pd.DataFrame(all_emb,columns=list(cell_inf['cell.type'].unique()))\n",
    "    all_emb_df_1.index=new_tp_df.TP_name.values+'_Control'\n",
    "    all_emb=[]\n",
    "    for l in cell_inf['cell.type'].unique():\n",
    "        q_index=cell_inf[(cell_inf['cell.type']==l) & (cell_inf['resilience.diag']=='AD')]['cell_index'].values\n",
    "        emb_file1=z_tp_emb[:,new_tp_df['pathway_index'].values]\n",
    "        emb_file1=emb_file1[q_index,]\n",
    "        emb_file1=np.mean(emb_file1,axis=0)\n",
    "        all_emb.append(emb_file1)\n",
    "    all_emb=np.array(all_emb)\n",
    "    all_emb=all_emb.T\n",
    "    all_emb_df_2=pd.DataFrame(all_emb,columns=list(cell_inf['cell.type'].unique()))\n",
    "    all_emb_df_2.index=new_tp_df.TP_name.values+'_AD'\n",
    "    all_emb_df=pd.concat([all_emb_df_1,all_emb_df_2])\n",
    "    \n",
    "    myplot = sns.clustermap(all_emb_df,cmap=\"seismic\",z_score = 1)\n",
    "    myplot.ax_heatmap.set_xticklabels(myplot.ax_heatmap.get_xticklabels(), rotation=45, ha='right')\n",
    "    path=cluster_folder+file_list[i].replace('.pkl','.png')"
   ]
  }
 ],
 "metadata": {
  "kernelspec": {
   "display_name": "Python 3 (ipykernel)",
   "language": "python",
   "name": "python3"
  },
  "language_info": {
   "codemirror_mode": {
    "name": "ipython",
    "version": 3
   },
   "file_extension": ".py",
   "mimetype": "text/x-python",
   "name": "python",
   "nbconvert_exporter": "python",
   "pygments_lexer": "ipython3",
   "version": "3.10.12"
  }
 },
 "nbformat": 4,
 "nbformat_minor": 5
}
